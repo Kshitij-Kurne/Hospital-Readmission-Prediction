{
  "nbformat": 4,
  "nbformat_minor": 0,
  "metadata": {
    "colab": {
      "provenance": []
    },
    "kernelspec": {
      "name": "python3",
      "display_name": "Python 3"
    },
    "language_info": {
      "name": "python"
    }
  },
  "cells": [
    {
      "cell_type": "markdown",
      "source": [
        "🟠 PROBLEM STATEMENT: A hospital readmission basically happens when a patient who is discharged from the hospital, gets re-admitted within a certain period of time. So from the hospital readmission rates we can determine the considered  quality of hospital, treatment and the cost of the treatment. So the main objective for this problem is to predict whether a patient is likely to be readmitted to hospital based on the previous details of the patient.\n",
        "\n",
        "🟢 The dataset contains 48 features and 66587 rows in train dataset and 16647 data in test dataset. The Column readmission is the target dataset."
      ],
      "metadata": {
        "id": "D568KQXPhvrZ"
      }
    },
    {
      "cell_type": "code",
      "execution_count": null,
      "metadata": {
        "id": "7MnD89BWr4Rb"
      },
      "outputs": [],
      "source": [
        "# Importing necessary libraries\n",
        "\n",
        "import pandas as pd\n",
        "import numpy as np\n",
        "import seaborn as sns\n",
        "import matplotlib.pyplot as plt\n",
        "from sklearn.preprocessing import LabelEncoder\n",
        "%matplotlib inline"
      ]
    },
    {
      "cell_type": "code",
      "source": [
        "# Loading the train and test data\n",
        "train_data = pd.read_csv('train.csv')\n",
        "test_data = pd.read_csv('test.csv')"
      ],
      "metadata": {
        "id": "ozv7vTHnsNNL"
      },
      "execution_count": null,
      "outputs": []
    },
    {
      "cell_type": "code",
      "source": [
        "# Train data shape\n",
        "train_data.shape"
      ],
      "metadata": {
        "colab": {
          "base_uri": "https://localhost:8080/"
        },
        "id": "G2M6HbsisR3Q",
        "outputId": "dd9caee3-ff31-4bcf-fb6c-dc5362954c3b"
      },
      "execution_count": null,
      "outputs": [
        {
          "output_type": "execute_result",
          "data": {
            "text/plain": [
              "(66587, 49)"
            ]
          },
          "metadata": {},
          "execution_count": 62
        }
      ]
    },
    {
      "cell_type": "code",
      "source": [
        "# Test data shape\n",
        "test_data.shape"
      ],
      "metadata": {
        "colab": {
          "base_uri": "https://localhost:8080/"
        },
        "id": "RYF4qO5xsVa3",
        "outputId": "92f86cee-f370-41d6-cb43-4c967798e8cf"
      },
      "execution_count": null,
      "outputs": [
        {
          "output_type": "execute_result",
          "data": {
            "text/plain": [
              "(16647, 48)"
            ]
          },
          "metadata": {},
          "execution_count": 63
        }
      ]
    },
    {
      "cell_type": "code",
      "source": [
        "train_data.info()"
      ],
      "metadata": {
        "colab": {
          "base_uri": "https://localhost:8080/"
        },
        "id": "ms-QKccXsZzQ",
        "outputId": "d2970f3d-f05c-4a6d-eb03-9a9d7e8174d5"
      },
      "execution_count": null,
      "outputs": [
        {
          "output_type": "stream",
          "name": "stdout",
          "text": [
            "<class 'pandas.core.frame.DataFrame'>\n",
            "RangeIndex: 66587 entries, 0 to 66586\n",
            "Data columns (total 49 columns):\n",
            " #   Column              Non-Null Count  Dtype  \n",
            "---  ------              --------------  -----  \n",
            " 0   index               66587 non-null  int64  \n",
            " 1   encounter_id        66587 non-null  int64  \n",
            " 2   patient_id          66587 non-null  int64  \n",
            " 3   race                66587 non-null  object \n",
            " 4   gender              66587 non-null  object \n",
            " 5   age                 66587 non-null  object \n",
            " 6   weight              66587 non-null  object \n",
            " 7   time_in_hospital    66587 non-null  int64  \n",
            " 8   medical_specialty   66587 non-null  object \n",
            " 9   num_lab_procedures  66587 non-null  int64  \n",
            " 10  num_procedures      66587 non-null  int64  \n",
            " 11  num_medications     66587 non-null  int64  \n",
            " 12  number_outpatient   66587 non-null  int64  \n",
            " 13  number_emergency    66587 non-null  int64  \n",
            " 14  number_inpatient    66587 non-null  int64  \n",
            " 15  diag_1              66587 non-null  object \n",
            " 16  diag_2              66587 non-null  object \n",
            " 17  diag_3              66587 non-null  object \n",
            " 18  diag_4              66587 non-null  object \n",
            " 19  diag_5              66587 non-null  float64\n",
            " 20  number_diagnoses    66587 non-null  int64  \n",
            " 21  X1                  66587 non-null  object \n",
            " 22  X2                  66587 non-null  object \n",
            " 23  X3                  66587 non-null  object \n",
            " 24  X4                  66587 non-null  object \n",
            " 25  X5                  66587 non-null  object \n",
            " 26  X6                  66587 non-null  object \n",
            " 27  X7                  66587 non-null  object \n",
            " 28  X8                  66587 non-null  object \n",
            " 29  X9                  66587 non-null  object \n",
            " 30  X10                 66587 non-null  object \n",
            " 31  X11                 66587 non-null  object \n",
            " 32  X12                 66587 non-null  object \n",
            " 33  X13                 66587 non-null  object \n",
            " 34  X14                 66587 non-null  object \n",
            " 35  X15                 66587 non-null  object \n",
            " 36  X16                 66587 non-null  object \n",
            " 37  X17                 66587 non-null  object \n",
            " 38  X18                 66587 non-null  object \n",
            " 39  X19                 66587 non-null  object \n",
            " 40  X20                 66587 non-null  object \n",
            " 41  X21                 66587 non-null  object \n",
            " 42  X22                 66587 non-null  object \n",
            " 43  X23                 66587 non-null  object \n",
            " 44  X24                 66587 non-null  object \n",
            " 45  X25                 66587 non-null  object \n",
            " 46  change              66587 non-null  object \n",
            " 47  diabetesMed         66587 non-null  object \n",
            " 48  readmitted          66587 non-null  int64  \n",
            "dtypes: float64(1), int64(12), object(36)\n",
            "memory usage: 24.9+ MB\n"
          ]
        }
      ]
    },
    {
      "cell_type": "code",
      "source": [
        "test_data.info()"
      ],
      "metadata": {
        "colab": {
          "base_uri": "https://localhost:8080/"
        },
        "id": "VhXEHPdasayV",
        "outputId": "2bb71b9c-0ca1-465f-e02d-875e0d9beb67"
      },
      "execution_count": null,
      "outputs": [
        {
          "output_type": "stream",
          "name": "stdout",
          "text": [
            "<class 'pandas.core.frame.DataFrame'>\n",
            "RangeIndex: 16647 entries, 0 to 16646\n",
            "Data columns (total 48 columns):\n",
            " #   Column              Non-Null Count  Dtype  \n",
            "---  ------              --------------  -----  \n",
            " 0   index               16647 non-null  int64  \n",
            " 1   encounter_id        16647 non-null  int64  \n",
            " 2   patient_id          16647 non-null  int64  \n",
            " 3   race                16647 non-null  object \n",
            " 4   gender              16647 non-null  object \n",
            " 5   age                 16647 non-null  object \n",
            " 6   weight              16647 non-null  object \n",
            " 7   time_in_hospital    16647 non-null  int64  \n",
            " 8   medical_specialty   16647 non-null  object \n",
            " 9   num_lab_procedures  16647 non-null  int64  \n",
            " 10  num_procedures      16647 non-null  int64  \n",
            " 11  num_medications     16647 non-null  int64  \n",
            " 12  number_outpatient   16647 non-null  int64  \n",
            " 13  number_emergency    16647 non-null  int64  \n",
            " 14  number_inpatient    16647 non-null  int64  \n",
            " 15  diag_1              16647 non-null  object \n",
            " 16  diag_2              16647 non-null  object \n",
            " 17  diag_3              16647 non-null  object \n",
            " 18  diag_4              16647 non-null  object \n",
            " 19  diag_5              16647 non-null  float64\n",
            " 20  number_diagnoses    16647 non-null  int64  \n",
            " 21  X1                  16647 non-null  object \n",
            " 22  X2                  16647 non-null  object \n",
            " 23  X3                  16647 non-null  object \n",
            " 24  X4                  16647 non-null  object \n",
            " 25  X5                  16647 non-null  object \n",
            " 26  X6                  16647 non-null  object \n",
            " 27  X7                  16647 non-null  object \n",
            " 28  X8                  16647 non-null  object \n",
            " 29  X9                  16647 non-null  object \n",
            " 30  X10                 16647 non-null  object \n",
            " 31  X11                 16647 non-null  object \n",
            " 32  X12                 16647 non-null  object \n",
            " 33  X13                 16647 non-null  object \n",
            " 34  X14                 16647 non-null  object \n",
            " 35  X15                 16647 non-null  object \n",
            " 36  X16                 16647 non-null  object \n",
            " 37  X17                 16647 non-null  object \n",
            " 38  X18                 16647 non-null  object \n",
            " 39  X19                 16647 non-null  object \n",
            " 40  X20                 16647 non-null  object \n",
            " 41  X21                 16647 non-null  object \n",
            " 42  X22                 16647 non-null  object \n",
            " 43  X23                 16647 non-null  object \n",
            " 44  X24                 16647 non-null  object \n",
            " 45  X25                 16647 non-null  object \n",
            " 46  change              16647 non-null  object \n",
            " 47  diabetesMed         16647 non-null  object \n",
            "dtypes: float64(1), int64(11), object(36)\n",
            "memory usage: 6.1+ MB\n"
          ]
        }
      ]
    },
    {
      "cell_type": "code",
      "source": [
        "train_data.head()"
      ],
      "metadata": {
        "colab": {
          "base_uri": "https://localhost:8080/",
          "height": 386
        },
        "id": "8b-3EfSPsdzE",
        "outputId": "afcbbe7d-3468-4b1b-d1ae-e12008310748"
      },
      "execution_count": null,
      "outputs": [
        {
          "output_type": "execute_result",
          "data": {
            "text/plain": [
              "   index  encounter_id  patient_id             race  gender      age weight  \\\n",
              "0  69375     197029140    51521940         Hispanic    Male  [80-90)      ?   \n",
              "1  57272     163571946    92631357        Caucasian    Male  [60-70)      ?   \n",
              "2  82347     256497366    30023982        Caucasian  Female  [50-60)      ?   \n",
              "3  89608     289891212    93606021  AfricanAmerican  Female  [70-80)      ?   \n",
              "4  24091      81873900    23464296        Caucasian    Male  [70-80)      ?   \n",
              "\n",
              "   time_in_hospital medical_specialty  num_lab_procedures  ...  X19   X20  \\\n",
              "0                 4  Emergency/Trauma                  39  ...   No    No   \n",
              "1                 3  Emergency/Trauma                  34  ...   No    No   \n",
              "2                 6        Nephrology                  50  ...   No  Down   \n",
              "3                 5                 ?                  63  ...   No  Down   \n",
              "4                 9        Psychiatry                  17  ...   No    No   \n",
              "\n",
              "   X21  X22  X23 X24 X25 change diabetesMed  readmitted  \n",
              "0   No   No   No  No  No     No         Yes           1  \n",
              "1   No   No   No  No  No     No          No           0  \n",
              "2   No   No   No  No  No     Ch         Yes           1  \n",
              "3   No   No   No  No  No     Ch         Yes           1  \n",
              "4   No   No   No  No  No     No          No           1  \n",
              "\n",
              "[5 rows x 49 columns]"
            ],
            "text/html": [
              "\n",
              "  <div id=\"df-66b49807-7d02-420f-ae00-26b0d59ff017\">\n",
              "    <div class=\"colab-df-container\">\n",
              "      <div>\n",
              "<style scoped>\n",
              "    .dataframe tbody tr th:only-of-type {\n",
              "        vertical-align: middle;\n",
              "    }\n",
              "\n",
              "    .dataframe tbody tr th {\n",
              "        vertical-align: top;\n",
              "    }\n",
              "\n",
              "    .dataframe thead th {\n",
              "        text-align: right;\n",
              "    }\n",
              "</style>\n",
              "<table border=\"1\" class=\"dataframe\">\n",
              "  <thead>\n",
              "    <tr style=\"text-align: right;\">\n",
              "      <th></th>\n",
              "      <th>index</th>\n",
              "      <th>encounter_id</th>\n",
              "      <th>patient_id</th>\n",
              "      <th>race</th>\n",
              "      <th>gender</th>\n",
              "      <th>age</th>\n",
              "      <th>weight</th>\n",
              "      <th>time_in_hospital</th>\n",
              "      <th>medical_specialty</th>\n",
              "      <th>num_lab_procedures</th>\n",
              "      <th>...</th>\n",
              "      <th>X19</th>\n",
              "      <th>X20</th>\n",
              "      <th>X21</th>\n",
              "      <th>X22</th>\n",
              "      <th>X23</th>\n",
              "      <th>X24</th>\n",
              "      <th>X25</th>\n",
              "      <th>change</th>\n",
              "      <th>diabetesMed</th>\n",
              "      <th>readmitted</th>\n",
              "    </tr>\n",
              "  </thead>\n",
              "  <tbody>\n",
              "    <tr>\n",
              "      <th>0</th>\n",
              "      <td>69375</td>\n",
              "      <td>197029140</td>\n",
              "      <td>51521940</td>\n",
              "      <td>Hispanic</td>\n",
              "      <td>Male</td>\n",
              "      <td>[80-90)</td>\n",
              "      <td>?</td>\n",
              "      <td>4</td>\n",
              "      <td>Emergency/Trauma</td>\n",
              "      <td>39</td>\n",
              "      <td>...</td>\n",
              "      <td>No</td>\n",
              "      <td>No</td>\n",
              "      <td>No</td>\n",
              "      <td>No</td>\n",
              "      <td>No</td>\n",
              "      <td>No</td>\n",
              "      <td>No</td>\n",
              "      <td>No</td>\n",
              "      <td>Yes</td>\n",
              "      <td>1</td>\n",
              "    </tr>\n",
              "    <tr>\n",
              "      <th>1</th>\n",
              "      <td>57272</td>\n",
              "      <td>163571946</td>\n",
              "      <td>92631357</td>\n",
              "      <td>Caucasian</td>\n",
              "      <td>Male</td>\n",
              "      <td>[60-70)</td>\n",
              "      <td>?</td>\n",
              "      <td>3</td>\n",
              "      <td>Emergency/Trauma</td>\n",
              "      <td>34</td>\n",
              "      <td>...</td>\n",
              "      <td>No</td>\n",
              "      <td>No</td>\n",
              "      <td>No</td>\n",
              "      <td>No</td>\n",
              "      <td>No</td>\n",
              "      <td>No</td>\n",
              "      <td>No</td>\n",
              "      <td>No</td>\n",
              "      <td>No</td>\n",
              "      <td>0</td>\n",
              "    </tr>\n",
              "    <tr>\n",
              "      <th>2</th>\n",
              "      <td>82347</td>\n",
              "      <td>256497366</td>\n",
              "      <td>30023982</td>\n",
              "      <td>Caucasian</td>\n",
              "      <td>Female</td>\n",
              "      <td>[50-60)</td>\n",
              "      <td>?</td>\n",
              "      <td>6</td>\n",
              "      <td>Nephrology</td>\n",
              "      <td>50</td>\n",
              "      <td>...</td>\n",
              "      <td>No</td>\n",
              "      <td>Down</td>\n",
              "      <td>No</td>\n",
              "      <td>No</td>\n",
              "      <td>No</td>\n",
              "      <td>No</td>\n",
              "      <td>No</td>\n",
              "      <td>Ch</td>\n",
              "      <td>Yes</td>\n",
              "      <td>1</td>\n",
              "    </tr>\n",
              "    <tr>\n",
              "      <th>3</th>\n",
              "      <td>89608</td>\n",
              "      <td>289891212</td>\n",
              "      <td>93606021</td>\n",
              "      <td>AfricanAmerican</td>\n",
              "      <td>Female</td>\n",
              "      <td>[70-80)</td>\n",
              "      <td>?</td>\n",
              "      <td>5</td>\n",
              "      <td>?</td>\n",
              "      <td>63</td>\n",
              "      <td>...</td>\n",
              "      <td>No</td>\n",
              "      <td>Down</td>\n",
              "      <td>No</td>\n",
              "      <td>No</td>\n",
              "      <td>No</td>\n",
              "      <td>No</td>\n",
              "      <td>No</td>\n",
              "      <td>Ch</td>\n",
              "      <td>Yes</td>\n",
              "      <td>1</td>\n",
              "    </tr>\n",
              "    <tr>\n",
              "      <th>4</th>\n",
              "      <td>24091</td>\n",
              "      <td>81873900</td>\n",
              "      <td>23464296</td>\n",
              "      <td>Caucasian</td>\n",
              "      <td>Male</td>\n",
              "      <td>[70-80)</td>\n",
              "      <td>?</td>\n",
              "      <td>9</td>\n",
              "      <td>Psychiatry</td>\n",
              "      <td>17</td>\n",
              "      <td>...</td>\n",
              "      <td>No</td>\n",
              "      <td>No</td>\n",
              "      <td>No</td>\n",
              "      <td>No</td>\n",
              "      <td>No</td>\n",
              "      <td>No</td>\n",
              "      <td>No</td>\n",
              "      <td>No</td>\n",
              "      <td>No</td>\n",
              "      <td>1</td>\n",
              "    </tr>\n",
              "  </tbody>\n",
              "</table>\n",
              "<p>5 rows × 49 columns</p>\n",
              "</div>\n",
              "      <button class=\"colab-df-convert\" onclick=\"convertToInteractive('df-66b49807-7d02-420f-ae00-26b0d59ff017')\"\n",
              "              title=\"Convert this dataframe to an interactive table.\"\n",
              "              style=\"display:none;\">\n",
              "        \n",
              "  <svg xmlns=\"http://www.w3.org/2000/svg\" height=\"24px\"viewBox=\"0 0 24 24\"\n",
              "       width=\"24px\">\n",
              "    <path d=\"M0 0h24v24H0V0z\" fill=\"none\"/>\n",
              "    <path d=\"M18.56 5.44l.94 2.06.94-2.06 2.06-.94-2.06-.94-.94-2.06-.94 2.06-2.06.94zm-11 1L8.5 8.5l.94-2.06 2.06-.94-2.06-.94L8.5 2.5l-.94 2.06-2.06.94zm10 10l.94 2.06.94-2.06 2.06-.94-2.06-.94-.94-2.06-.94 2.06-2.06.94z\"/><path d=\"M17.41 7.96l-1.37-1.37c-.4-.4-.92-.59-1.43-.59-.52 0-1.04.2-1.43.59L10.3 9.45l-7.72 7.72c-.78.78-.78 2.05 0 2.83L4 21.41c.39.39.9.59 1.41.59.51 0 1.02-.2 1.41-.59l7.78-7.78 2.81-2.81c.8-.78.8-2.07 0-2.86zM5.41 20L4 18.59l7.72-7.72 1.47 1.35L5.41 20z\"/>\n",
              "  </svg>\n",
              "      </button>\n",
              "      \n",
              "  <style>\n",
              "    .colab-df-container {\n",
              "      display:flex;\n",
              "      flex-wrap:wrap;\n",
              "      gap: 12px;\n",
              "    }\n",
              "\n",
              "    .colab-df-convert {\n",
              "      background-color: #E8F0FE;\n",
              "      border: none;\n",
              "      border-radius: 50%;\n",
              "      cursor: pointer;\n",
              "      display: none;\n",
              "      fill: #1967D2;\n",
              "      height: 32px;\n",
              "      padding: 0 0 0 0;\n",
              "      width: 32px;\n",
              "    }\n",
              "\n",
              "    .colab-df-convert:hover {\n",
              "      background-color: #E2EBFA;\n",
              "      box-shadow: 0px 1px 2px rgba(60, 64, 67, 0.3), 0px 1px 3px 1px rgba(60, 64, 67, 0.15);\n",
              "      fill: #174EA6;\n",
              "    }\n",
              "\n",
              "    [theme=dark] .colab-df-convert {\n",
              "      background-color: #3B4455;\n",
              "      fill: #D2E3FC;\n",
              "    }\n",
              "\n",
              "    [theme=dark] .colab-df-convert:hover {\n",
              "      background-color: #434B5C;\n",
              "      box-shadow: 0px 1px 3px 1px rgba(0, 0, 0, 0.15);\n",
              "      filter: drop-shadow(0px 1px 2px rgba(0, 0, 0, 0.3));\n",
              "      fill: #FFFFFF;\n",
              "    }\n",
              "  </style>\n",
              "\n",
              "      <script>\n",
              "        const buttonEl =\n",
              "          document.querySelector('#df-66b49807-7d02-420f-ae00-26b0d59ff017 button.colab-df-convert');\n",
              "        buttonEl.style.display =\n",
              "          google.colab.kernel.accessAllowed ? 'block' : 'none';\n",
              "\n",
              "        async function convertToInteractive(key) {\n",
              "          const element = document.querySelector('#df-66b49807-7d02-420f-ae00-26b0d59ff017');\n",
              "          const dataTable =\n",
              "            await google.colab.kernel.invokeFunction('convertToInteractive',\n",
              "                                                     [key], {});\n",
              "          if (!dataTable) return;\n",
              "\n",
              "          const docLinkHtml = 'Like what you see? Visit the ' +\n",
              "            '<a target=\"_blank\" href=https://colab.research.google.com/notebooks/data_table.ipynb>data table notebook</a>'\n",
              "            + ' to learn more about interactive tables.';\n",
              "          element.innerHTML = '';\n",
              "          dataTable['output_type'] = 'display_data';\n",
              "          await google.colab.output.renderOutput(dataTable, element);\n",
              "          const docLink = document.createElement('div');\n",
              "          docLink.innerHTML = docLinkHtml;\n",
              "          element.appendChild(docLink);\n",
              "        }\n",
              "      </script>\n",
              "    </div>\n",
              "  </div>\n",
              "  "
            ]
          },
          "metadata": {},
          "execution_count": 66
        }
      ]
    },
    {
      "cell_type": "code",
      "source": [
        "train_data.tail()"
      ],
      "metadata": {
        "colab": {
          "base_uri": "https://localhost:8080/",
          "height": 386
        },
        "id": "1qcGpGgVshDK",
        "outputId": "16eba3eb-842c-419f-84c0-4f8a33010865"
      },
      "execution_count": null,
      "outputs": [
        {
          "output_type": "execute_result",
          "data": {
            "text/plain": [
              "       index  encounter_id  patient_id       race  gender      age weight  \\\n",
              "66582  39934     124202466    23450508  Caucasian  Female  [70-80)      ?   \n",
              "66583  47366     145667070    29324601  Caucasian    Male  [80-90)      ?   \n",
              "66584  76555     231061116     2179062  Caucasian  Female  [60-70)      ?   \n",
              "66585  25392      84911682    20531754          ?  Female  [80-90)      ?   \n",
              "66586  51312     153167502    81985473  Caucasian  Female  [80-90)      ?   \n",
              "\n",
              "       time_in_hospital medical_specialty  num_lab_procedures  ...  X19  \\\n",
              "66582                11  InternalMedicine                  40  ...   No   \n",
              "66583                 4                 ?                  39  ...   No   \n",
              "66584                 2                 ?                  24  ...   No   \n",
              "66585                 4  InternalMedicine                  39  ...   No   \n",
              "66586                 2                 ?                  38  ...   No   \n",
              "\n",
              "          X20  X21  X22  X23 X24 X25 change diabetesMed  readmitted  \n",
              "66582  Steady   No   No   No  No  No     No         Yes           0  \n",
              "66583      No   No   No   No  No  No     No          No           1  \n",
              "66584      No   No   No   No  No  No     No         Yes           1  \n",
              "66585      No   No   No   No  No  No     No          No           0  \n",
              "66586  Steady   No   No   No  No  No     Ch         Yes           1  \n",
              "\n",
              "[5 rows x 49 columns]"
            ],
            "text/html": [
              "\n",
              "  <div id=\"df-efe15f2b-e57e-4000-a865-2888e1a0c35b\">\n",
              "    <div class=\"colab-df-container\">\n",
              "      <div>\n",
              "<style scoped>\n",
              "    .dataframe tbody tr th:only-of-type {\n",
              "        vertical-align: middle;\n",
              "    }\n",
              "\n",
              "    .dataframe tbody tr th {\n",
              "        vertical-align: top;\n",
              "    }\n",
              "\n",
              "    .dataframe thead th {\n",
              "        text-align: right;\n",
              "    }\n",
              "</style>\n",
              "<table border=\"1\" class=\"dataframe\">\n",
              "  <thead>\n",
              "    <tr style=\"text-align: right;\">\n",
              "      <th></th>\n",
              "      <th>index</th>\n",
              "      <th>encounter_id</th>\n",
              "      <th>patient_id</th>\n",
              "      <th>race</th>\n",
              "      <th>gender</th>\n",
              "      <th>age</th>\n",
              "      <th>weight</th>\n",
              "      <th>time_in_hospital</th>\n",
              "      <th>medical_specialty</th>\n",
              "      <th>num_lab_procedures</th>\n",
              "      <th>...</th>\n",
              "      <th>X19</th>\n",
              "      <th>X20</th>\n",
              "      <th>X21</th>\n",
              "      <th>X22</th>\n",
              "      <th>X23</th>\n",
              "      <th>X24</th>\n",
              "      <th>X25</th>\n",
              "      <th>change</th>\n",
              "      <th>diabetesMed</th>\n",
              "      <th>readmitted</th>\n",
              "    </tr>\n",
              "  </thead>\n",
              "  <tbody>\n",
              "    <tr>\n",
              "      <th>66582</th>\n",
              "      <td>39934</td>\n",
              "      <td>124202466</td>\n",
              "      <td>23450508</td>\n",
              "      <td>Caucasian</td>\n",
              "      <td>Female</td>\n",
              "      <td>[70-80)</td>\n",
              "      <td>?</td>\n",
              "      <td>11</td>\n",
              "      <td>InternalMedicine</td>\n",
              "      <td>40</td>\n",
              "      <td>...</td>\n",
              "      <td>No</td>\n",
              "      <td>Steady</td>\n",
              "      <td>No</td>\n",
              "      <td>No</td>\n",
              "      <td>No</td>\n",
              "      <td>No</td>\n",
              "      <td>No</td>\n",
              "      <td>No</td>\n",
              "      <td>Yes</td>\n",
              "      <td>0</td>\n",
              "    </tr>\n",
              "    <tr>\n",
              "      <th>66583</th>\n",
              "      <td>47366</td>\n",
              "      <td>145667070</td>\n",
              "      <td>29324601</td>\n",
              "      <td>Caucasian</td>\n",
              "      <td>Male</td>\n",
              "      <td>[80-90)</td>\n",
              "      <td>?</td>\n",
              "      <td>4</td>\n",
              "      <td>?</td>\n",
              "      <td>39</td>\n",
              "      <td>...</td>\n",
              "      <td>No</td>\n",
              "      <td>No</td>\n",
              "      <td>No</td>\n",
              "      <td>No</td>\n",
              "      <td>No</td>\n",
              "      <td>No</td>\n",
              "      <td>No</td>\n",
              "      <td>No</td>\n",
              "      <td>No</td>\n",
              "      <td>1</td>\n",
              "    </tr>\n",
              "    <tr>\n",
              "      <th>66584</th>\n",
              "      <td>76555</td>\n",
              "      <td>231061116</td>\n",
              "      <td>2179062</td>\n",
              "      <td>Caucasian</td>\n",
              "      <td>Female</td>\n",
              "      <td>[60-70)</td>\n",
              "      <td>?</td>\n",
              "      <td>2</td>\n",
              "      <td>?</td>\n",
              "      <td>24</td>\n",
              "      <td>...</td>\n",
              "      <td>No</td>\n",
              "      <td>No</td>\n",
              "      <td>No</td>\n",
              "      <td>No</td>\n",
              "      <td>No</td>\n",
              "      <td>No</td>\n",
              "      <td>No</td>\n",
              "      <td>No</td>\n",
              "      <td>Yes</td>\n",
              "      <td>1</td>\n",
              "    </tr>\n",
              "    <tr>\n",
              "      <th>66585</th>\n",
              "      <td>25392</td>\n",
              "      <td>84911682</td>\n",
              "      <td>20531754</td>\n",
              "      <td>?</td>\n",
              "      <td>Female</td>\n",
              "      <td>[80-90)</td>\n",
              "      <td>?</td>\n",
              "      <td>4</td>\n",
              "      <td>InternalMedicine</td>\n",
              "      <td>39</td>\n",
              "      <td>...</td>\n",
              "      <td>No</td>\n",
              "      <td>No</td>\n",
              "      <td>No</td>\n",
              "      <td>No</td>\n",
              "      <td>No</td>\n",
              "      <td>No</td>\n",
              "      <td>No</td>\n",
              "      <td>No</td>\n",
              "      <td>No</td>\n",
              "      <td>0</td>\n",
              "    </tr>\n",
              "    <tr>\n",
              "      <th>66586</th>\n",
              "      <td>51312</td>\n",
              "      <td>153167502</td>\n",
              "      <td>81985473</td>\n",
              "      <td>Caucasian</td>\n",
              "      <td>Female</td>\n",
              "      <td>[80-90)</td>\n",
              "      <td>?</td>\n",
              "      <td>2</td>\n",
              "      <td>?</td>\n",
              "      <td>38</td>\n",
              "      <td>...</td>\n",
              "      <td>No</td>\n",
              "      <td>Steady</td>\n",
              "      <td>No</td>\n",
              "      <td>No</td>\n",
              "      <td>No</td>\n",
              "      <td>No</td>\n",
              "      <td>No</td>\n",
              "      <td>Ch</td>\n",
              "      <td>Yes</td>\n",
              "      <td>1</td>\n",
              "    </tr>\n",
              "  </tbody>\n",
              "</table>\n",
              "<p>5 rows × 49 columns</p>\n",
              "</div>\n",
              "      <button class=\"colab-df-convert\" onclick=\"convertToInteractive('df-efe15f2b-e57e-4000-a865-2888e1a0c35b')\"\n",
              "              title=\"Convert this dataframe to an interactive table.\"\n",
              "              style=\"display:none;\">\n",
              "        \n",
              "  <svg xmlns=\"http://www.w3.org/2000/svg\" height=\"24px\"viewBox=\"0 0 24 24\"\n",
              "       width=\"24px\">\n",
              "    <path d=\"M0 0h24v24H0V0z\" fill=\"none\"/>\n",
              "    <path d=\"M18.56 5.44l.94 2.06.94-2.06 2.06-.94-2.06-.94-.94-2.06-.94 2.06-2.06.94zm-11 1L8.5 8.5l.94-2.06 2.06-.94-2.06-.94L8.5 2.5l-.94 2.06-2.06.94zm10 10l.94 2.06.94-2.06 2.06-.94-2.06-.94-.94-2.06-.94 2.06-2.06.94z\"/><path d=\"M17.41 7.96l-1.37-1.37c-.4-.4-.92-.59-1.43-.59-.52 0-1.04.2-1.43.59L10.3 9.45l-7.72 7.72c-.78.78-.78 2.05 0 2.83L4 21.41c.39.39.9.59 1.41.59.51 0 1.02-.2 1.41-.59l7.78-7.78 2.81-2.81c.8-.78.8-2.07 0-2.86zM5.41 20L4 18.59l7.72-7.72 1.47 1.35L5.41 20z\"/>\n",
              "  </svg>\n",
              "      </button>\n",
              "      \n",
              "  <style>\n",
              "    .colab-df-container {\n",
              "      display:flex;\n",
              "      flex-wrap:wrap;\n",
              "      gap: 12px;\n",
              "    }\n",
              "\n",
              "    .colab-df-convert {\n",
              "      background-color: #E8F0FE;\n",
              "      border: none;\n",
              "      border-radius: 50%;\n",
              "      cursor: pointer;\n",
              "      display: none;\n",
              "      fill: #1967D2;\n",
              "      height: 32px;\n",
              "      padding: 0 0 0 0;\n",
              "      width: 32px;\n",
              "    }\n",
              "\n",
              "    .colab-df-convert:hover {\n",
              "      background-color: #E2EBFA;\n",
              "      box-shadow: 0px 1px 2px rgba(60, 64, 67, 0.3), 0px 1px 3px 1px rgba(60, 64, 67, 0.15);\n",
              "      fill: #174EA6;\n",
              "    }\n",
              "\n",
              "    [theme=dark] .colab-df-convert {\n",
              "      background-color: #3B4455;\n",
              "      fill: #D2E3FC;\n",
              "    }\n",
              "\n",
              "    [theme=dark] .colab-df-convert:hover {\n",
              "      background-color: #434B5C;\n",
              "      box-shadow: 0px 1px 3px 1px rgba(0, 0, 0, 0.15);\n",
              "      filter: drop-shadow(0px 1px 2px rgba(0, 0, 0, 0.3));\n",
              "      fill: #FFFFFF;\n",
              "    }\n",
              "  </style>\n",
              "\n",
              "      <script>\n",
              "        const buttonEl =\n",
              "          document.querySelector('#df-efe15f2b-e57e-4000-a865-2888e1a0c35b button.colab-df-convert');\n",
              "        buttonEl.style.display =\n",
              "          google.colab.kernel.accessAllowed ? 'block' : 'none';\n",
              "\n",
              "        async function convertToInteractive(key) {\n",
              "          const element = document.querySelector('#df-efe15f2b-e57e-4000-a865-2888e1a0c35b');\n",
              "          const dataTable =\n",
              "            await google.colab.kernel.invokeFunction('convertToInteractive',\n",
              "                                                     [key], {});\n",
              "          if (!dataTable) return;\n",
              "\n",
              "          const docLinkHtml = 'Like what you see? Visit the ' +\n",
              "            '<a target=\"_blank\" href=https://colab.research.google.com/notebooks/data_table.ipynb>data table notebook</a>'\n",
              "            + ' to learn more about interactive tables.';\n",
              "          element.innerHTML = '';\n",
              "          dataTable['output_type'] = 'display_data';\n",
              "          await google.colab.output.renderOutput(dataTable, element);\n",
              "          const docLink = document.createElement('div');\n",
              "          docLink.innerHTML = docLinkHtml;\n",
              "          element.appendChild(docLink);\n",
              "        }\n",
              "      </script>\n",
              "    </div>\n",
              "  </div>\n",
              "  "
            ]
          },
          "metadata": {},
          "execution_count": 67
        }
      ]
    },
    {
      "cell_type": "code",
      "source": [
        "# Relacing ? with NaN\n",
        "train_data.replace('?', np.nan, inplace = True)"
      ],
      "metadata": {
        "id": "HQLimkexsjwP"
      },
      "execution_count": null,
      "outputs": []
    },
    {
      "cell_type": "code",
      "source": [
        "train_data.head()"
      ],
      "metadata": {
        "colab": {
          "base_uri": "https://localhost:8080/",
          "height": 386
        },
        "id": "QK6XIoXutTUk",
        "outputId": "b012afb0-c565-41a6-caa0-453b005703ea"
      },
      "execution_count": null,
      "outputs": [
        {
          "output_type": "execute_result",
          "data": {
            "text/plain": [
              "   index  encounter_id  patient_id             race  gender      age weight  \\\n",
              "0  69375     197029140    51521940         Hispanic    Male  [80-90)    NaN   \n",
              "1  57272     163571946    92631357        Caucasian    Male  [60-70)    NaN   \n",
              "2  82347     256497366    30023982        Caucasian  Female  [50-60)    NaN   \n",
              "3  89608     289891212    93606021  AfricanAmerican  Female  [70-80)    NaN   \n",
              "4  24091      81873900    23464296        Caucasian    Male  [70-80)    NaN   \n",
              "\n",
              "   time_in_hospital medical_specialty  num_lab_procedures  ...  X19   X20  \\\n",
              "0                 4  Emergency/Trauma                  39  ...   No    No   \n",
              "1                 3  Emergency/Trauma                  34  ...   No    No   \n",
              "2                 6        Nephrology                  50  ...   No  Down   \n",
              "3                 5               NaN                  63  ...   No  Down   \n",
              "4                 9        Psychiatry                  17  ...   No    No   \n",
              "\n",
              "   X21  X22  X23 X24 X25 change diabetesMed  readmitted  \n",
              "0   No   No   No  No  No     No         Yes           1  \n",
              "1   No   No   No  No  No     No          No           0  \n",
              "2   No   No   No  No  No     Ch         Yes           1  \n",
              "3   No   No   No  No  No     Ch         Yes           1  \n",
              "4   No   No   No  No  No     No          No           1  \n",
              "\n",
              "[5 rows x 49 columns]"
            ],
            "text/html": [
              "\n",
              "  <div id=\"df-adab4f07-2b64-4f3b-a5b1-f3571bf628b8\">\n",
              "    <div class=\"colab-df-container\">\n",
              "      <div>\n",
              "<style scoped>\n",
              "    .dataframe tbody tr th:only-of-type {\n",
              "        vertical-align: middle;\n",
              "    }\n",
              "\n",
              "    .dataframe tbody tr th {\n",
              "        vertical-align: top;\n",
              "    }\n",
              "\n",
              "    .dataframe thead th {\n",
              "        text-align: right;\n",
              "    }\n",
              "</style>\n",
              "<table border=\"1\" class=\"dataframe\">\n",
              "  <thead>\n",
              "    <tr style=\"text-align: right;\">\n",
              "      <th></th>\n",
              "      <th>index</th>\n",
              "      <th>encounter_id</th>\n",
              "      <th>patient_id</th>\n",
              "      <th>race</th>\n",
              "      <th>gender</th>\n",
              "      <th>age</th>\n",
              "      <th>weight</th>\n",
              "      <th>time_in_hospital</th>\n",
              "      <th>medical_specialty</th>\n",
              "      <th>num_lab_procedures</th>\n",
              "      <th>...</th>\n",
              "      <th>X19</th>\n",
              "      <th>X20</th>\n",
              "      <th>X21</th>\n",
              "      <th>X22</th>\n",
              "      <th>X23</th>\n",
              "      <th>X24</th>\n",
              "      <th>X25</th>\n",
              "      <th>change</th>\n",
              "      <th>diabetesMed</th>\n",
              "      <th>readmitted</th>\n",
              "    </tr>\n",
              "  </thead>\n",
              "  <tbody>\n",
              "    <tr>\n",
              "      <th>0</th>\n",
              "      <td>69375</td>\n",
              "      <td>197029140</td>\n",
              "      <td>51521940</td>\n",
              "      <td>Hispanic</td>\n",
              "      <td>Male</td>\n",
              "      <td>[80-90)</td>\n",
              "      <td>NaN</td>\n",
              "      <td>4</td>\n",
              "      <td>Emergency/Trauma</td>\n",
              "      <td>39</td>\n",
              "      <td>...</td>\n",
              "      <td>No</td>\n",
              "      <td>No</td>\n",
              "      <td>No</td>\n",
              "      <td>No</td>\n",
              "      <td>No</td>\n",
              "      <td>No</td>\n",
              "      <td>No</td>\n",
              "      <td>No</td>\n",
              "      <td>Yes</td>\n",
              "      <td>1</td>\n",
              "    </tr>\n",
              "    <tr>\n",
              "      <th>1</th>\n",
              "      <td>57272</td>\n",
              "      <td>163571946</td>\n",
              "      <td>92631357</td>\n",
              "      <td>Caucasian</td>\n",
              "      <td>Male</td>\n",
              "      <td>[60-70)</td>\n",
              "      <td>NaN</td>\n",
              "      <td>3</td>\n",
              "      <td>Emergency/Trauma</td>\n",
              "      <td>34</td>\n",
              "      <td>...</td>\n",
              "      <td>No</td>\n",
              "      <td>No</td>\n",
              "      <td>No</td>\n",
              "      <td>No</td>\n",
              "      <td>No</td>\n",
              "      <td>No</td>\n",
              "      <td>No</td>\n",
              "      <td>No</td>\n",
              "      <td>No</td>\n",
              "      <td>0</td>\n",
              "    </tr>\n",
              "    <tr>\n",
              "      <th>2</th>\n",
              "      <td>82347</td>\n",
              "      <td>256497366</td>\n",
              "      <td>30023982</td>\n",
              "      <td>Caucasian</td>\n",
              "      <td>Female</td>\n",
              "      <td>[50-60)</td>\n",
              "      <td>NaN</td>\n",
              "      <td>6</td>\n",
              "      <td>Nephrology</td>\n",
              "      <td>50</td>\n",
              "      <td>...</td>\n",
              "      <td>No</td>\n",
              "      <td>Down</td>\n",
              "      <td>No</td>\n",
              "      <td>No</td>\n",
              "      <td>No</td>\n",
              "      <td>No</td>\n",
              "      <td>No</td>\n",
              "      <td>Ch</td>\n",
              "      <td>Yes</td>\n",
              "      <td>1</td>\n",
              "    </tr>\n",
              "    <tr>\n",
              "      <th>3</th>\n",
              "      <td>89608</td>\n",
              "      <td>289891212</td>\n",
              "      <td>93606021</td>\n",
              "      <td>AfricanAmerican</td>\n",
              "      <td>Female</td>\n",
              "      <td>[70-80)</td>\n",
              "      <td>NaN</td>\n",
              "      <td>5</td>\n",
              "      <td>NaN</td>\n",
              "      <td>63</td>\n",
              "      <td>...</td>\n",
              "      <td>No</td>\n",
              "      <td>Down</td>\n",
              "      <td>No</td>\n",
              "      <td>No</td>\n",
              "      <td>No</td>\n",
              "      <td>No</td>\n",
              "      <td>No</td>\n",
              "      <td>Ch</td>\n",
              "      <td>Yes</td>\n",
              "      <td>1</td>\n",
              "    </tr>\n",
              "    <tr>\n",
              "      <th>4</th>\n",
              "      <td>24091</td>\n",
              "      <td>81873900</td>\n",
              "      <td>23464296</td>\n",
              "      <td>Caucasian</td>\n",
              "      <td>Male</td>\n",
              "      <td>[70-80)</td>\n",
              "      <td>NaN</td>\n",
              "      <td>9</td>\n",
              "      <td>Psychiatry</td>\n",
              "      <td>17</td>\n",
              "      <td>...</td>\n",
              "      <td>No</td>\n",
              "      <td>No</td>\n",
              "      <td>No</td>\n",
              "      <td>No</td>\n",
              "      <td>No</td>\n",
              "      <td>No</td>\n",
              "      <td>No</td>\n",
              "      <td>No</td>\n",
              "      <td>No</td>\n",
              "      <td>1</td>\n",
              "    </tr>\n",
              "  </tbody>\n",
              "</table>\n",
              "<p>5 rows × 49 columns</p>\n",
              "</div>\n",
              "      <button class=\"colab-df-convert\" onclick=\"convertToInteractive('df-adab4f07-2b64-4f3b-a5b1-f3571bf628b8')\"\n",
              "              title=\"Convert this dataframe to an interactive table.\"\n",
              "              style=\"display:none;\">\n",
              "        \n",
              "  <svg xmlns=\"http://www.w3.org/2000/svg\" height=\"24px\"viewBox=\"0 0 24 24\"\n",
              "       width=\"24px\">\n",
              "    <path d=\"M0 0h24v24H0V0z\" fill=\"none\"/>\n",
              "    <path d=\"M18.56 5.44l.94 2.06.94-2.06 2.06-.94-2.06-.94-.94-2.06-.94 2.06-2.06.94zm-11 1L8.5 8.5l.94-2.06 2.06-.94-2.06-.94L8.5 2.5l-.94 2.06-2.06.94zm10 10l.94 2.06.94-2.06 2.06-.94-2.06-.94-.94-2.06-.94 2.06-2.06.94z\"/><path d=\"M17.41 7.96l-1.37-1.37c-.4-.4-.92-.59-1.43-.59-.52 0-1.04.2-1.43.59L10.3 9.45l-7.72 7.72c-.78.78-.78 2.05 0 2.83L4 21.41c.39.39.9.59 1.41.59.51 0 1.02-.2 1.41-.59l7.78-7.78 2.81-2.81c.8-.78.8-2.07 0-2.86zM5.41 20L4 18.59l7.72-7.72 1.47 1.35L5.41 20z\"/>\n",
              "  </svg>\n",
              "      </button>\n",
              "      \n",
              "  <style>\n",
              "    .colab-df-container {\n",
              "      display:flex;\n",
              "      flex-wrap:wrap;\n",
              "      gap: 12px;\n",
              "    }\n",
              "\n",
              "    .colab-df-convert {\n",
              "      background-color: #E8F0FE;\n",
              "      border: none;\n",
              "      border-radius: 50%;\n",
              "      cursor: pointer;\n",
              "      display: none;\n",
              "      fill: #1967D2;\n",
              "      height: 32px;\n",
              "      padding: 0 0 0 0;\n",
              "      width: 32px;\n",
              "    }\n",
              "\n",
              "    .colab-df-convert:hover {\n",
              "      background-color: #E2EBFA;\n",
              "      box-shadow: 0px 1px 2px rgba(60, 64, 67, 0.3), 0px 1px 3px 1px rgba(60, 64, 67, 0.15);\n",
              "      fill: #174EA6;\n",
              "    }\n",
              "\n",
              "    [theme=dark] .colab-df-convert {\n",
              "      background-color: #3B4455;\n",
              "      fill: #D2E3FC;\n",
              "    }\n",
              "\n",
              "    [theme=dark] .colab-df-convert:hover {\n",
              "      background-color: #434B5C;\n",
              "      box-shadow: 0px 1px 3px 1px rgba(0, 0, 0, 0.15);\n",
              "      filter: drop-shadow(0px 1px 2px rgba(0, 0, 0, 0.3));\n",
              "      fill: #FFFFFF;\n",
              "    }\n",
              "  </style>\n",
              "\n",
              "      <script>\n",
              "        const buttonEl =\n",
              "          document.querySelector('#df-adab4f07-2b64-4f3b-a5b1-f3571bf628b8 button.colab-df-convert');\n",
              "        buttonEl.style.display =\n",
              "          google.colab.kernel.accessAllowed ? 'block' : 'none';\n",
              "\n",
              "        async function convertToInteractive(key) {\n",
              "          const element = document.querySelector('#df-adab4f07-2b64-4f3b-a5b1-f3571bf628b8');\n",
              "          const dataTable =\n",
              "            await google.colab.kernel.invokeFunction('convertToInteractive',\n",
              "                                                     [key], {});\n",
              "          if (!dataTable) return;\n",
              "\n",
              "          const docLinkHtml = 'Like what you see? Visit the ' +\n",
              "            '<a target=\"_blank\" href=https://colab.research.google.com/notebooks/data_table.ipynb>data table notebook</a>'\n",
              "            + ' to learn more about interactive tables.';\n",
              "          element.innerHTML = '';\n",
              "          dataTable['output_type'] = 'display_data';\n",
              "          await google.colab.output.renderOutput(dataTable, element);\n",
              "          const docLink = document.createElement('div');\n",
              "          docLink.innerHTML = docLinkHtml;\n",
              "          element.appendChild(docLink);\n",
              "        }\n",
              "      </script>\n",
              "    </div>\n",
              "  </div>\n",
              "  "
            ]
          },
          "metadata": {},
          "execution_count": 69
        }
      ]
    },
    {
      "cell_type": "code",
      "source": [
        "# Relacing ? with NaN\n",
        "test_data.replace('?', np.nan, inplace = True)"
      ],
      "metadata": {
        "id": "FHNSOyIPtUDe"
      },
      "execution_count": null,
      "outputs": []
    },
    {
      "cell_type": "code",
      "source": [
        "test_data.head()"
      ],
      "metadata": {
        "colab": {
          "base_uri": "https://localhost:8080/",
          "height": 386
        },
        "id": "eGYMn4xgtZVl",
        "outputId": "3dd22a43-b8f4-4bc0-8525-7573639f7e46"
      },
      "execution_count": null,
      "outputs": [
        {
          "output_type": "execute_result",
          "data": {
            "text/plain": [
              "   index  encounter_id  patient_id             race  gender      age weight  \\\n",
              "0  11128      46325466     3928383        Caucasian  Female  [70-80)    NaN   \n",
              "1  79758     245219616    60926103        Caucasian    Male  [60-70)    NaN   \n",
              "2  52497     155321232    25234848  AfricanAmerican    Male  [70-80)    NaN   \n",
              "3  64504     179491944    86935374        Caucasian  Female  [70-80)    NaN   \n",
              "4    987       7425954     2486826  AfricanAmerican  Female  [50-60)    NaN   \n",
              "\n",
              "   time_in_hospital medical_specialty  num_lab_procedures  ...  X18  X19  \\\n",
              "0                 3               NaN                  45  ...   No   No   \n",
              "1                 2               NaN                  10  ...   No   No   \n",
              "2                11  InternalMedicine                  41  ...   No   No   \n",
              "3                 1  InternalMedicine                  71  ...   No   No   \n",
              "4                 7  InternalMedicine                  59  ...   No   No   \n",
              "\n",
              "      X20  X21  X22 X23 X24 X25 change  diabetesMed  \n",
              "0      No   No   No  No  No  No     No          Yes  \n",
              "1      No   No   No  No  No  No     No          Yes  \n",
              "2  Steady   No   No  No  No  No     No          Yes  \n",
              "3      No   No   No  No  No  No     No           No  \n",
              "4  Steady   No   No  No  No  No     Ch          Yes  \n",
              "\n",
              "[5 rows x 48 columns]"
            ],
            "text/html": [
              "\n",
              "  <div id=\"df-abe6a66a-74b9-49a2-a29c-09674356dd4a\">\n",
              "    <div class=\"colab-df-container\">\n",
              "      <div>\n",
              "<style scoped>\n",
              "    .dataframe tbody tr th:only-of-type {\n",
              "        vertical-align: middle;\n",
              "    }\n",
              "\n",
              "    .dataframe tbody tr th {\n",
              "        vertical-align: top;\n",
              "    }\n",
              "\n",
              "    .dataframe thead th {\n",
              "        text-align: right;\n",
              "    }\n",
              "</style>\n",
              "<table border=\"1\" class=\"dataframe\">\n",
              "  <thead>\n",
              "    <tr style=\"text-align: right;\">\n",
              "      <th></th>\n",
              "      <th>index</th>\n",
              "      <th>encounter_id</th>\n",
              "      <th>patient_id</th>\n",
              "      <th>race</th>\n",
              "      <th>gender</th>\n",
              "      <th>age</th>\n",
              "      <th>weight</th>\n",
              "      <th>time_in_hospital</th>\n",
              "      <th>medical_specialty</th>\n",
              "      <th>num_lab_procedures</th>\n",
              "      <th>...</th>\n",
              "      <th>X18</th>\n",
              "      <th>X19</th>\n",
              "      <th>X20</th>\n",
              "      <th>X21</th>\n",
              "      <th>X22</th>\n",
              "      <th>X23</th>\n",
              "      <th>X24</th>\n",
              "      <th>X25</th>\n",
              "      <th>change</th>\n",
              "      <th>diabetesMed</th>\n",
              "    </tr>\n",
              "  </thead>\n",
              "  <tbody>\n",
              "    <tr>\n",
              "      <th>0</th>\n",
              "      <td>11128</td>\n",
              "      <td>46325466</td>\n",
              "      <td>3928383</td>\n",
              "      <td>Caucasian</td>\n",
              "      <td>Female</td>\n",
              "      <td>[70-80)</td>\n",
              "      <td>NaN</td>\n",
              "      <td>3</td>\n",
              "      <td>NaN</td>\n",
              "      <td>45</td>\n",
              "      <td>...</td>\n",
              "      <td>No</td>\n",
              "      <td>No</td>\n",
              "      <td>No</td>\n",
              "      <td>No</td>\n",
              "      <td>No</td>\n",
              "      <td>No</td>\n",
              "      <td>No</td>\n",
              "      <td>No</td>\n",
              "      <td>No</td>\n",
              "      <td>Yes</td>\n",
              "    </tr>\n",
              "    <tr>\n",
              "      <th>1</th>\n",
              "      <td>79758</td>\n",
              "      <td>245219616</td>\n",
              "      <td>60926103</td>\n",
              "      <td>Caucasian</td>\n",
              "      <td>Male</td>\n",
              "      <td>[60-70)</td>\n",
              "      <td>NaN</td>\n",
              "      <td>2</td>\n",
              "      <td>NaN</td>\n",
              "      <td>10</td>\n",
              "      <td>...</td>\n",
              "      <td>No</td>\n",
              "      <td>No</td>\n",
              "      <td>No</td>\n",
              "      <td>No</td>\n",
              "      <td>No</td>\n",
              "      <td>No</td>\n",
              "      <td>No</td>\n",
              "      <td>No</td>\n",
              "      <td>No</td>\n",
              "      <td>Yes</td>\n",
              "    </tr>\n",
              "    <tr>\n",
              "      <th>2</th>\n",
              "      <td>52497</td>\n",
              "      <td>155321232</td>\n",
              "      <td>25234848</td>\n",
              "      <td>AfricanAmerican</td>\n",
              "      <td>Male</td>\n",
              "      <td>[70-80)</td>\n",
              "      <td>NaN</td>\n",
              "      <td>11</td>\n",
              "      <td>InternalMedicine</td>\n",
              "      <td>41</td>\n",
              "      <td>...</td>\n",
              "      <td>No</td>\n",
              "      <td>No</td>\n",
              "      <td>Steady</td>\n",
              "      <td>No</td>\n",
              "      <td>No</td>\n",
              "      <td>No</td>\n",
              "      <td>No</td>\n",
              "      <td>No</td>\n",
              "      <td>No</td>\n",
              "      <td>Yes</td>\n",
              "    </tr>\n",
              "    <tr>\n",
              "      <th>3</th>\n",
              "      <td>64504</td>\n",
              "      <td>179491944</td>\n",
              "      <td>86935374</td>\n",
              "      <td>Caucasian</td>\n",
              "      <td>Female</td>\n",
              "      <td>[70-80)</td>\n",
              "      <td>NaN</td>\n",
              "      <td>1</td>\n",
              "      <td>InternalMedicine</td>\n",
              "      <td>71</td>\n",
              "      <td>...</td>\n",
              "      <td>No</td>\n",
              "      <td>No</td>\n",
              "      <td>No</td>\n",
              "      <td>No</td>\n",
              "      <td>No</td>\n",
              "      <td>No</td>\n",
              "      <td>No</td>\n",
              "      <td>No</td>\n",
              "      <td>No</td>\n",
              "      <td>No</td>\n",
              "    </tr>\n",
              "    <tr>\n",
              "      <th>4</th>\n",
              "      <td>987</td>\n",
              "      <td>7425954</td>\n",
              "      <td>2486826</td>\n",
              "      <td>AfricanAmerican</td>\n",
              "      <td>Female</td>\n",
              "      <td>[50-60)</td>\n",
              "      <td>NaN</td>\n",
              "      <td>7</td>\n",
              "      <td>InternalMedicine</td>\n",
              "      <td>59</td>\n",
              "      <td>...</td>\n",
              "      <td>No</td>\n",
              "      <td>No</td>\n",
              "      <td>Steady</td>\n",
              "      <td>No</td>\n",
              "      <td>No</td>\n",
              "      <td>No</td>\n",
              "      <td>No</td>\n",
              "      <td>No</td>\n",
              "      <td>Ch</td>\n",
              "      <td>Yes</td>\n",
              "    </tr>\n",
              "  </tbody>\n",
              "</table>\n",
              "<p>5 rows × 48 columns</p>\n",
              "</div>\n",
              "      <button class=\"colab-df-convert\" onclick=\"convertToInteractive('df-abe6a66a-74b9-49a2-a29c-09674356dd4a')\"\n",
              "              title=\"Convert this dataframe to an interactive table.\"\n",
              "              style=\"display:none;\">\n",
              "        \n",
              "  <svg xmlns=\"http://www.w3.org/2000/svg\" height=\"24px\"viewBox=\"0 0 24 24\"\n",
              "       width=\"24px\">\n",
              "    <path d=\"M0 0h24v24H0V0z\" fill=\"none\"/>\n",
              "    <path d=\"M18.56 5.44l.94 2.06.94-2.06 2.06-.94-2.06-.94-.94-2.06-.94 2.06-2.06.94zm-11 1L8.5 8.5l.94-2.06 2.06-.94-2.06-.94L8.5 2.5l-.94 2.06-2.06.94zm10 10l.94 2.06.94-2.06 2.06-.94-2.06-.94-.94-2.06-.94 2.06-2.06.94z\"/><path d=\"M17.41 7.96l-1.37-1.37c-.4-.4-.92-.59-1.43-.59-.52 0-1.04.2-1.43.59L10.3 9.45l-7.72 7.72c-.78.78-.78 2.05 0 2.83L4 21.41c.39.39.9.59 1.41.59.51 0 1.02-.2 1.41-.59l7.78-7.78 2.81-2.81c.8-.78.8-2.07 0-2.86zM5.41 20L4 18.59l7.72-7.72 1.47 1.35L5.41 20z\"/>\n",
              "  </svg>\n",
              "      </button>\n",
              "      \n",
              "  <style>\n",
              "    .colab-df-container {\n",
              "      display:flex;\n",
              "      flex-wrap:wrap;\n",
              "      gap: 12px;\n",
              "    }\n",
              "\n",
              "    .colab-df-convert {\n",
              "      background-color: #E8F0FE;\n",
              "      border: none;\n",
              "      border-radius: 50%;\n",
              "      cursor: pointer;\n",
              "      display: none;\n",
              "      fill: #1967D2;\n",
              "      height: 32px;\n",
              "      padding: 0 0 0 0;\n",
              "      width: 32px;\n",
              "    }\n",
              "\n",
              "    .colab-df-convert:hover {\n",
              "      background-color: #E2EBFA;\n",
              "      box-shadow: 0px 1px 2px rgba(60, 64, 67, 0.3), 0px 1px 3px 1px rgba(60, 64, 67, 0.15);\n",
              "      fill: #174EA6;\n",
              "    }\n",
              "\n",
              "    [theme=dark] .colab-df-convert {\n",
              "      background-color: #3B4455;\n",
              "      fill: #D2E3FC;\n",
              "    }\n",
              "\n",
              "    [theme=dark] .colab-df-convert:hover {\n",
              "      background-color: #434B5C;\n",
              "      box-shadow: 0px 1px 3px 1px rgba(0, 0, 0, 0.15);\n",
              "      filter: drop-shadow(0px 1px 2px rgba(0, 0, 0, 0.3));\n",
              "      fill: #FFFFFF;\n",
              "    }\n",
              "  </style>\n",
              "\n",
              "      <script>\n",
              "        const buttonEl =\n",
              "          document.querySelector('#df-abe6a66a-74b9-49a2-a29c-09674356dd4a button.colab-df-convert');\n",
              "        buttonEl.style.display =\n",
              "          google.colab.kernel.accessAllowed ? 'block' : 'none';\n",
              "\n",
              "        async function convertToInteractive(key) {\n",
              "          const element = document.querySelector('#df-abe6a66a-74b9-49a2-a29c-09674356dd4a');\n",
              "          const dataTable =\n",
              "            await google.colab.kernel.invokeFunction('convertToInteractive',\n",
              "                                                     [key], {});\n",
              "          if (!dataTable) return;\n",
              "\n",
              "          const docLinkHtml = 'Like what you see? Visit the ' +\n",
              "            '<a target=\"_blank\" href=https://colab.research.google.com/notebooks/data_table.ipynb>data table notebook</a>'\n",
              "            + ' to learn more about interactive tables.';\n",
              "          element.innerHTML = '';\n",
              "          dataTable['output_type'] = 'display_data';\n",
              "          await google.colab.output.renderOutput(dataTable, element);\n",
              "          const docLink = document.createElement('div');\n",
              "          docLink.innerHTML = docLinkHtml;\n",
              "          element.appendChild(docLink);\n",
              "        }\n",
              "      </script>\n",
              "    </div>\n",
              "  </div>\n",
              "  "
            ]
          },
          "metadata": {},
          "execution_count": 71
        }
      ]
    },
    {
      "cell_type": "code",
      "source": [
        "# Check the correlation among the columns\n",
        "\n",
        "train_data.corr()"
      ],
      "metadata": {
        "colab": {
          "base_uri": "https://localhost:8080/",
          "height": 521
        },
        "id": "5NU2j2hftb6D",
        "outputId": "06519ef6-113a-4f70-af8e-bf0f9ece55a5"
      },
      "execution_count": null,
      "outputs": [
        {
          "output_type": "execute_result",
          "data": {
            "text/plain": [
              "                       index  encounter_id  patient_id  time_in_hospital  \\\n",
              "index               1.000000      0.967746    0.530321         -0.069455   \n",
              "encounter_id        0.967746      1.000000    0.515897         -0.065718   \n",
              "patient_id          0.530321      0.515897    1.000000         -0.024560   \n",
              "time_in_hospital   -0.069455     -0.065718   -0.024560          1.000000   \n",
              "num_lab_procedures -0.024829     -0.026513    0.008258          0.317791   \n",
              "num_procedures     -0.018229     -0.011833   -0.010764          0.189862   \n",
              "num_medications     0.086206      0.079311    0.027329          0.466018   \n",
              "number_outpatient   0.123406      0.110434    0.107852         -0.004403   \n",
              "number_emergency    0.093911      0.083868    0.064268         -0.014538   \n",
              "number_inpatient    0.038776      0.032505    0.010618          0.074129   \n",
              "diag_5              0.010872      0.010133    0.001094         -0.001322   \n",
              "number_diagnoses    0.280526      0.266711    0.228001          0.217898   \n",
              "readmitted         -0.020770     -0.037686    0.068800          0.053223   \n",
              "\n",
              "                    num_lab_procedures  num_procedures  num_medications  \\\n",
              "index                        -0.024829       -0.018229         0.086206   \n",
              "encounter_id                 -0.026513       -0.011833         0.079311   \n",
              "patient_id                    0.008258       -0.010764         0.027329   \n",
              "time_in_hospital              0.317791        0.189862         0.466018   \n",
              "num_lab_procedures            1.000000        0.068696         0.269419   \n",
              "num_procedures                0.068696        1.000000         0.388733   \n",
              "num_medications               0.269419        0.388733         1.000000   \n",
              "number_outpatient            -0.004809       -0.024343         0.051360   \n",
              "number_emergency             -0.006951       -0.043824         0.008086   \n",
              "number_inpatient              0.045833       -0.067695         0.065070   \n",
              "diag_5                       -0.007252        0.011024         0.007218   \n",
              "number_diagnoses              0.152295        0.074671         0.262382   \n",
              "readmitted                    0.035691       -0.044342         0.049729   \n",
              "\n",
              "                    number_outpatient  number_emergency  number_inpatient  \\\n",
              "index                        0.123406          0.093911          0.038776   \n",
              "encounter_id                 0.110434          0.083868          0.032505   \n",
              "patient_id                   0.107852          0.064268          0.010618   \n",
              "time_in_hospital            -0.004403         -0.014538          0.074129   \n",
              "num_lab_procedures          -0.004809         -0.006951          0.045833   \n",
              "num_procedures              -0.024343         -0.043824         -0.067695   \n",
              "num_medications              0.051360          0.008086          0.065070   \n",
              "number_outpatient            1.000000          0.090484          0.108023   \n",
              "number_emergency             0.090484          1.000000          0.284529   \n",
              "number_inpatient             0.108023          0.284529          1.000000   \n",
              "diag_5                      -0.001494         -0.000602          0.004172   \n",
              "number_diagnoses             0.095103          0.057698          0.109730   \n",
              "readmitted                   0.081590          0.107820          0.217446   \n",
              "\n",
              "                      diag_5  number_diagnoses  readmitted  \n",
              "index               0.010872          0.280526   -0.020770  \n",
              "encounter_id        0.010133          0.266711   -0.037686  \n",
              "patient_id          0.001094          0.228001    0.068800  \n",
              "time_in_hospital   -0.001322          0.217898    0.053223  \n",
              "num_lab_procedures -0.007252          0.152295    0.035691  \n",
              "num_procedures      0.011024          0.074671   -0.044342  \n",
              "num_medications     0.007218          0.262382    0.049729  \n",
              "number_outpatient  -0.001494          0.095103    0.081590  \n",
              "number_emergency   -0.000602          0.057698    0.107820  \n",
              "number_inpatient    0.004172          0.109730    0.217446  \n",
              "diag_5              1.000000          0.002587    0.003111  \n",
              "number_diagnoses    0.002587          1.000000    0.107257  \n",
              "readmitted          0.003111          0.107257    1.000000  "
            ],
            "text/html": [
              "\n",
              "  <div id=\"df-8c164ac3-edcf-4dd0-a059-a12fed4c6c3e\">\n",
              "    <div class=\"colab-df-container\">\n",
              "      <div>\n",
              "<style scoped>\n",
              "    .dataframe tbody tr th:only-of-type {\n",
              "        vertical-align: middle;\n",
              "    }\n",
              "\n",
              "    .dataframe tbody tr th {\n",
              "        vertical-align: top;\n",
              "    }\n",
              "\n",
              "    .dataframe thead th {\n",
              "        text-align: right;\n",
              "    }\n",
              "</style>\n",
              "<table border=\"1\" class=\"dataframe\">\n",
              "  <thead>\n",
              "    <tr style=\"text-align: right;\">\n",
              "      <th></th>\n",
              "      <th>index</th>\n",
              "      <th>encounter_id</th>\n",
              "      <th>patient_id</th>\n",
              "      <th>time_in_hospital</th>\n",
              "      <th>num_lab_procedures</th>\n",
              "      <th>num_procedures</th>\n",
              "      <th>num_medications</th>\n",
              "      <th>number_outpatient</th>\n",
              "      <th>number_emergency</th>\n",
              "      <th>number_inpatient</th>\n",
              "      <th>diag_5</th>\n",
              "      <th>number_diagnoses</th>\n",
              "      <th>readmitted</th>\n",
              "    </tr>\n",
              "  </thead>\n",
              "  <tbody>\n",
              "    <tr>\n",
              "      <th>index</th>\n",
              "      <td>1.000000</td>\n",
              "      <td>0.967746</td>\n",
              "      <td>0.530321</td>\n",
              "      <td>-0.069455</td>\n",
              "      <td>-0.024829</td>\n",
              "      <td>-0.018229</td>\n",
              "      <td>0.086206</td>\n",
              "      <td>0.123406</td>\n",
              "      <td>0.093911</td>\n",
              "      <td>0.038776</td>\n",
              "      <td>0.010872</td>\n",
              "      <td>0.280526</td>\n",
              "      <td>-0.020770</td>\n",
              "    </tr>\n",
              "    <tr>\n",
              "      <th>encounter_id</th>\n",
              "      <td>0.967746</td>\n",
              "      <td>1.000000</td>\n",
              "      <td>0.515897</td>\n",
              "      <td>-0.065718</td>\n",
              "      <td>-0.026513</td>\n",
              "      <td>-0.011833</td>\n",
              "      <td>0.079311</td>\n",
              "      <td>0.110434</td>\n",
              "      <td>0.083868</td>\n",
              "      <td>0.032505</td>\n",
              "      <td>0.010133</td>\n",
              "      <td>0.266711</td>\n",
              "      <td>-0.037686</td>\n",
              "    </tr>\n",
              "    <tr>\n",
              "      <th>patient_id</th>\n",
              "      <td>0.530321</td>\n",
              "      <td>0.515897</td>\n",
              "      <td>1.000000</td>\n",
              "      <td>-0.024560</td>\n",
              "      <td>0.008258</td>\n",
              "      <td>-0.010764</td>\n",
              "      <td>0.027329</td>\n",
              "      <td>0.107852</td>\n",
              "      <td>0.064268</td>\n",
              "      <td>0.010618</td>\n",
              "      <td>0.001094</td>\n",
              "      <td>0.228001</td>\n",
              "      <td>0.068800</td>\n",
              "    </tr>\n",
              "    <tr>\n",
              "      <th>time_in_hospital</th>\n",
              "      <td>-0.069455</td>\n",
              "      <td>-0.065718</td>\n",
              "      <td>-0.024560</td>\n",
              "      <td>1.000000</td>\n",
              "      <td>0.317791</td>\n",
              "      <td>0.189862</td>\n",
              "      <td>0.466018</td>\n",
              "      <td>-0.004403</td>\n",
              "      <td>-0.014538</td>\n",
              "      <td>0.074129</td>\n",
              "      <td>-0.001322</td>\n",
              "      <td>0.217898</td>\n",
              "      <td>0.053223</td>\n",
              "    </tr>\n",
              "    <tr>\n",
              "      <th>num_lab_procedures</th>\n",
              "      <td>-0.024829</td>\n",
              "      <td>-0.026513</td>\n",
              "      <td>0.008258</td>\n",
              "      <td>0.317791</td>\n",
              "      <td>1.000000</td>\n",
              "      <td>0.068696</td>\n",
              "      <td>0.269419</td>\n",
              "      <td>-0.004809</td>\n",
              "      <td>-0.006951</td>\n",
              "      <td>0.045833</td>\n",
              "      <td>-0.007252</td>\n",
              "      <td>0.152295</td>\n",
              "      <td>0.035691</td>\n",
              "    </tr>\n",
              "    <tr>\n",
              "      <th>num_procedures</th>\n",
              "      <td>-0.018229</td>\n",
              "      <td>-0.011833</td>\n",
              "      <td>-0.010764</td>\n",
              "      <td>0.189862</td>\n",
              "      <td>0.068696</td>\n",
              "      <td>1.000000</td>\n",
              "      <td>0.388733</td>\n",
              "      <td>-0.024343</td>\n",
              "      <td>-0.043824</td>\n",
              "      <td>-0.067695</td>\n",
              "      <td>0.011024</td>\n",
              "      <td>0.074671</td>\n",
              "      <td>-0.044342</td>\n",
              "    </tr>\n",
              "    <tr>\n",
              "      <th>num_medications</th>\n",
              "      <td>0.086206</td>\n",
              "      <td>0.079311</td>\n",
              "      <td>0.027329</td>\n",
              "      <td>0.466018</td>\n",
              "      <td>0.269419</td>\n",
              "      <td>0.388733</td>\n",
              "      <td>1.000000</td>\n",
              "      <td>0.051360</td>\n",
              "      <td>0.008086</td>\n",
              "      <td>0.065070</td>\n",
              "      <td>0.007218</td>\n",
              "      <td>0.262382</td>\n",
              "      <td>0.049729</td>\n",
              "    </tr>\n",
              "    <tr>\n",
              "      <th>number_outpatient</th>\n",
              "      <td>0.123406</td>\n",
              "      <td>0.110434</td>\n",
              "      <td>0.107852</td>\n",
              "      <td>-0.004403</td>\n",
              "      <td>-0.004809</td>\n",
              "      <td>-0.024343</td>\n",
              "      <td>0.051360</td>\n",
              "      <td>1.000000</td>\n",
              "      <td>0.090484</td>\n",
              "      <td>0.108023</td>\n",
              "      <td>-0.001494</td>\n",
              "      <td>0.095103</td>\n",
              "      <td>0.081590</td>\n",
              "    </tr>\n",
              "    <tr>\n",
              "      <th>number_emergency</th>\n",
              "      <td>0.093911</td>\n",
              "      <td>0.083868</td>\n",
              "      <td>0.064268</td>\n",
              "      <td>-0.014538</td>\n",
              "      <td>-0.006951</td>\n",
              "      <td>-0.043824</td>\n",
              "      <td>0.008086</td>\n",
              "      <td>0.090484</td>\n",
              "      <td>1.000000</td>\n",
              "      <td>0.284529</td>\n",
              "      <td>-0.000602</td>\n",
              "      <td>0.057698</td>\n",
              "      <td>0.107820</td>\n",
              "    </tr>\n",
              "    <tr>\n",
              "      <th>number_inpatient</th>\n",
              "      <td>0.038776</td>\n",
              "      <td>0.032505</td>\n",
              "      <td>0.010618</td>\n",
              "      <td>0.074129</td>\n",
              "      <td>0.045833</td>\n",
              "      <td>-0.067695</td>\n",
              "      <td>0.065070</td>\n",
              "      <td>0.108023</td>\n",
              "      <td>0.284529</td>\n",
              "      <td>1.000000</td>\n",
              "      <td>0.004172</td>\n",
              "      <td>0.109730</td>\n",
              "      <td>0.217446</td>\n",
              "    </tr>\n",
              "    <tr>\n",
              "      <th>diag_5</th>\n",
              "      <td>0.010872</td>\n",
              "      <td>0.010133</td>\n",
              "      <td>0.001094</td>\n",
              "      <td>-0.001322</td>\n",
              "      <td>-0.007252</td>\n",
              "      <td>0.011024</td>\n",
              "      <td>0.007218</td>\n",
              "      <td>-0.001494</td>\n",
              "      <td>-0.000602</td>\n",
              "      <td>0.004172</td>\n",
              "      <td>1.000000</td>\n",
              "      <td>0.002587</td>\n",
              "      <td>0.003111</td>\n",
              "    </tr>\n",
              "    <tr>\n",
              "      <th>number_diagnoses</th>\n",
              "      <td>0.280526</td>\n",
              "      <td>0.266711</td>\n",
              "      <td>0.228001</td>\n",
              "      <td>0.217898</td>\n",
              "      <td>0.152295</td>\n",
              "      <td>0.074671</td>\n",
              "      <td>0.262382</td>\n",
              "      <td>0.095103</td>\n",
              "      <td>0.057698</td>\n",
              "      <td>0.109730</td>\n",
              "      <td>0.002587</td>\n",
              "      <td>1.000000</td>\n",
              "      <td>0.107257</td>\n",
              "    </tr>\n",
              "    <tr>\n",
              "      <th>readmitted</th>\n",
              "      <td>-0.020770</td>\n",
              "      <td>-0.037686</td>\n",
              "      <td>0.068800</td>\n",
              "      <td>0.053223</td>\n",
              "      <td>0.035691</td>\n",
              "      <td>-0.044342</td>\n",
              "      <td>0.049729</td>\n",
              "      <td>0.081590</td>\n",
              "      <td>0.107820</td>\n",
              "      <td>0.217446</td>\n",
              "      <td>0.003111</td>\n",
              "      <td>0.107257</td>\n",
              "      <td>1.000000</td>\n",
              "    </tr>\n",
              "  </tbody>\n",
              "</table>\n",
              "</div>\n",
              "      <button class=\"colab-df-convert\" onclick=\"convertToInteractive('df-8c164ac3-edcf-4dd0-a059-a12fed4c6c3e')\"\n",
              "              title=\"Convert this dataframe to an interactive table.\"\n",
              "              style=\"display:none;\">\n",
              "        \n",
              "  <svg xmlns=\"http://www.w3.org/2000/svg\" height=\"24px\"viewBox=\"0 0 24 24\"\n",
              "       width=\"24px\">\n",
              "    <path d=\"M0 0h24v24H0V0z\" fill=\"none\"/>\n",
              "    <path d=\"M18.56 5.44l.94 2.06.94-2.06 2.06-.94-2.06-.94-.94-2.06-.94 2.06-2.06.94zm-11 1L8.5 8.5l.94-2.06 2.06-.94-2.06-.94L8.5 2.5l-.94 2.06-2.06.94zm10 10l.94 2.06.94-2.06 2.06-.94-2.06-.94-.94-2.06-.94 2.06-2.06.94z\"/><path d=\"M17.41 7.96l-1.37-1.37c-.4-.4-.92-.59-1.43-.59-.52 0-1.04.2-1.43.59L10.3 9.45l-7.72 7.72c-.78.78-.78 2.05 0 2.83L4 21.41c.39.39.9.59 1.41.59.51 0 1.02-.2 1.41-.59l7.78-7.78 2.81-2.81c.8-.78.8-2.07 0-2.86zM5.41 20L4 18.59l7.72-7.72 1.47 1.35L5.41 20z\"/>\n",
              "  </svg>\n",
              "      </button>\n",
              "      \n",
              "  <style>\n",
              "    .colab-df-container {\n",
              "      display:flex;\n",
              "      flex-wrap:wrap;\n",
              "      gap: 12px;\n",
              "    }\n",
              "\n",
              "    .colab-df-convert {\n",
              "      background-color: #E8F0FE;\n",
              "      border: none;\n",
              "      border-radius: 50%;\n",
              "      cursor: pointer;\n",
              "      display: none;\n",
              "      fill: #1967D2;\n",
              "      height: 32px;\n",
              "      padding: 0 0 0 0;\n",
              "      width: 32px;\n",
              "    }\n",
              "\n",
              "    .colab-df-convert:hover {\n",
              "      background-color: #E2EBFA;\n",
              "      box-shadow: 0px 1px 2px rgba(60, 64, 67, 0.3), 0px 1px 3px 1px rgba(60, 64, 67, 0.15);\n",
              "      fill: #174EA6;\n",
              "    }\n",
              "\n",
              "    [theme=dark] .colab-df-convert {\n",
              "      background-color: #3B4455;\n",
              "      fill: #D2E3FC;\n",
              "    }\n",
              "\n",
              "    [theme=dark] .colab-df-convert:hover {\n",
              "      background-color: #434B5C;\n",
              "      box-shadow: 0px 1px 3px 1px rgba(0, 0, 0, 0.15);\n",
              "      filter: drop-shadow(0px 1px 2px rgba(0, 0, 0, 0.3));\n",
              "      fill: #FFFFFF;\n",
              "    }\n",
              "  </style>\n",
              "\n",
              "      <script>\n",
              "        const buttonEl =\n",
              "          document.querySelector('#df-8c164ac3-edcf-4dd0-a059-a12fed4c6c3e button.colab-df-convert');\n",
              "        buttonEl.style.display =\n",
              "          google.colab.kernel.accessAllowed ? 'block' : 'none';\n",
              "\n",
              "        async function convertToInteractive(key) {\n",
              "          const element = document.querySelector('#df-8c164ac3-edcf-4dd0-a059-a12fed4c6c3e');\n",
              "          const dataTable =\n",
              "            await google.colab.kernel.invokeFunction('convertToInteractive',\n",
              "                                                     [key], {});\n",
              "          if (!dataTable) return;\n",
              "\n",
              "          const docLinkHtml = 'Like what you see? Visit the ' +\n",
              "            '<a target=\"_blank\" href=https://colab.research.google.com/notebooks/data_table.ipynb>data table notebook</a>'\n",
              "            + ' to learn more about interactive tables.';\n",
              "          element.innerHTML = '';\n",
              "          dataTable['output_type'] = 'display_data';\n",
              "          await google.colab.output.renderOutput(dataTable, element);\n",
              "          const docLink = document.createElement('div');\n",
              "          docLink.innerHTML = docLinkHtml;\n",
              "          element.appendChild(docLink);\n",
              "        }\n",
              "      </script>\n",
              "    </div>\n",
              "  </div>\n",
              "  "
            ]
          },
          "metadata": {},
          "execution_count": 72
        }
      ]
    },
    {
      "cell_type": "code",
      "source": [
        "test_data.corr()"
      ],
      "metadata": {
        "colab": {
          "base_uri": "https://localhost:8080/",
          "height": 490
        },
        "id": "FKeswJ8ztejo",
        "outputId": "c8d25250-6174-4fab-ef7c-17b72f4c03ca"
      },
      "execution_count": null,
      "outputs": [
        {
          "output_type": "execute_result",
          "data": {
            "text/plain": [
              "                       index  encounter_id  patient_id  time_in_hospital  \\\n",
              "index               1.000000      0.967489    0.535217         -0.055473   \n",
              "encounter_id        0.967489      1.000000    0.519790         -0.053338   \n",
              "patient_id          0.535217      0.519790    1.000000         -0.016617   \n",
              "time_in_hospital   -0.055473     -0.053338   -0.016617          1.000000   \n",
              "num_lab_procedures -0.027086     -0.030764    0.015584          0.316287   \n",
              "num_procedures     -0.033707     -0.027238   -0.010424          0.172692   \n",
              "num_medications     0.089348      0.082206    0.031617          0.468098   \n",
              "number_outpatient   0.111527      0.097744    0.101067          0.000830   \n",
              "number_emergency    0.103822      0.093610    0.080213         -0.000456   \n",
              "number_inpatient    0.054839      0.046576    0.029273          0.076844   \n",
              "diag_5              0.005652      0.004329    0.004530         -0.014081   \n",
              "number_diagnoses    0.286863      0.271240    0.236691          0.216869   \n",
              "\n",
              "                    num_lab_procedures  num_procedures  num_medications  \\\n",
              "index                        -0.027086       -0.033707         0.089348   \n",
              "encounter_id                 -0.030764       -0.027238         0.082206   \n",
              "patient_id                    0.015584       -0.010424         0.031617   \n",
              "time_in_hospital              0.316287        0.172692         0.468098   \n",
              "num_lab_procedures            1.000000        0.050340         0.261719   \n",
              "num_procedures                0.050340        1.000000         0.373698   \n",
              "num_medications               0.261719        0.373698         1.000000   \n",
              "number_outpatient            -0.006792       -0.015059         0.054799   \n",
              "number_emergency             -0.000059       -0.052321         0.023694   \n",
              "number_inpatient              0.032014       -0.075417         0.065876   \n",
              "diag_5                       -0.001864       -0.003872        -0.014327   \n",
              "number_diagnoses              0.153761        0.063219         0.258296   \n",
              "\n",
              "                    number_outpatient  number_emergency  number_inpatient  \\\n",
              "index                        0.111527          0.103822          0.054839   \n",
              "encounter_id                 0.097744          0.093610          0.046576   \n",
              "patient_id                   0.101067          0.080213          0.029273   \n",
              "time_in_hospital             0.000830         -0.000456          0.076844   \n",
              "num_lab_procedures          -0.006792         -0.000059          0.032014   \n",
              "num_procedures              -0.015059         -0.052321         -0.075417   \n",
              "num_medications              0.054799          0.023694          0.065876   \n",
              "number_outpatient            1.000000          0.101912          0.111757   \n",
              "number_emergency             0.101912          1.000000          0.298741   \n",
              "number_inpatient             0.111757          0.298741          1.000000   \n",
              "diag_5                      -0.006036          0.001841         -0.000396   \n",
              "number_diagnoses             0.090176          0.064558          0.109242   \n",
              "\n",
              "                      diag_5  number_diagnoses  \n",
              "index               0.005652          0.286863  \n",
              "encounter_id        0.004329          0.271240  \n",
              "patient_id          0.004530          0.236691  \n",
              "time_in_hospital   -0.014081          0.216869  \n",
              "num_lab_procedures -0.001864          0.153761  \n",
              "num_procedures     -0.003872          0.063219  \n",
              "num_medications    -0.014327          0.258296  \n",
              "number_outpatient  -0.006036          0.090176  \n",
              "number_emergency    0.001841          0.064558  \n",
              "number_inpatient   -0.000396          0.109242  \n",
              "diag_5              1.000000         -0.016612  \n",
              "number_diagnoses   -0.016612          1.000000  "
            ],
            "text/html": [
              "\n",
              "  <div id=\"df-d5dd3555-505c-47ee-89e6-1c121e3d0025\">\n",
              "    <div class=\"colab-df-container\">\n",
              "      <div>\n",
              "<style scoped>\n",
              "    .dataframe tbody tr th:only-of-type {\n",
              "        vertical-align: middle;\n",
              "    }\n",
              "\n",
              "    .dataframe tbody tr th {\n",
              "        vertical-align: top;\n",
              "    }\n",
              "\n",
              "    .dataframe thead th {\n",
              "        text-align: right;\n",
              "    }\n",
              "</style>\n",
              "<table border=\"1\" class=\"dataframe\">\n",
              "  <thead>\n",
              "    <tr style=\"text-align: right;\">\n",
              "      <th></th>\n",
              "      <th>index</th>\n",
              "      <th>encounter_id</th>\n",
              "      <th>patient_id</th>\n",
              "      <th>time_in_hospital</th>\n",
              "      <th>num_lab_procedures</th>\n",
              "      <th>num_procedures</th>\n",
              "      <th>num_medications</th>\n",
              "      <th>number_outpatient</th>\n",
              "      <th>number_emergency</th>\n",
              "      <th>number_inpatient</th>\n",
              "      <th>diag_5</th>\n",
              "      <th>number_diagnoses</th>\n",
              "    </tr>\n",
              "  </thead>\n",
              "  <tbody>\n",
              "    <tr>\n",
              "      <th>index</th>\n",
              "      <td>1.000000</td>\n",
              "      <td>0.967489</td>\n",
              "      <td>0.535217</td>\n",
              "      <td>-0.055473</td>\n",
              "      <td>-0.027086</td>\n",
              "      <td>-0.033707</td>\n",
              "      <td>0.089348</td>\n",
              "      <td>0.111527</td>\n",
              "      <td>0.103822</td>\n",
              "      <td>0.054839</td>\n",
              "      <td>0.005652</td>\n",
              "      <td>0.286863</td>\n",
              "    </tr>\n",
              "    <tr>\n",
              "      <th>encounter_id</th>\n",
              "      <td>0.967489</td>\n",
              "      <td>1.000000</td>\n",
              "      <td>0.519790</td>\n",
              "      <td>-0.053338</td>\n",
              "      <td>-0.030764</td>\n",
              "      <td>-0.027238</td>\n",
              "      <td>0.082206</td>\n",
              "      <td>0.097744</td>\n",
              "      <td>0.093610</td>\n",
              "      <td>0.046576</td>\n",
              "      <td>0.004329</td>\n",
              "      <td>0.271240</td>\n",
              "    </tr>\n",
              "    <tr>\n",
              "      <th>patient_id</th>\n",
              "      <td>0.535217</td>\n",
              "      <td>0.519790</td>\n",
              "      <td>1.000000</td>\n",
              "      <td>-0.016617</td>\n",
              "      <td>0.015584</td>\n",
              "      <td>-0.010424</td>\n",
              "      <td>0.031617</td>\n",
              "      <td>0.101067</td>\n",
              "      <td>0.080213</td>\n",
              "      <td>0.029273</td>\n",
              "      <td>0.004530</td>\n",
              "      <td>0.236691</td>\n",
              "    </tr>\n",
              "    <tr>\n",
              "      <th>time_in_hospital</th>\n",
              "      <td>-0.055473</td>\n",
              "      <td>-0.053338</td>\n",
              "      <td>-0.016617</td>\n",
              "      <td>1.000000</td>\n",
              "      <td>0.316287</td>\n",
              "      <td>0.172692</td>\n",
              "      <td>0.468098</td>\n",
              "      <td>0.000830</td>\n",
              "      <td>-0.000456</td>\n",
              "      <td>0.076844</td>\n",
              "      <td>-0.014081</td>\n",
              "      <td>0.216869</td>\n",
              "    </tr>\n",
              "    <tr>\n",
              "      <th>num_lab_procedures</th>\n",
              "      <td>-0.027086</td>\n",
              "      <td>-0.030764</td>\n",
              "      <td>0.015584</td>\n",
              "      <td>0.316287</td>\n",
              "      <td>1.000000</td>\n",
              "      <td>0.050340</td>\n",
              "      <td>0.261719</td>\n",
              "      <td>-0.006792</td>\n",
              "      <td>-0.000059</td>\n",
              "      <td>0.032014</td>\n",
              "      <td>-0.001864</td>\n",
              "      <td>0.153761</td>\n",
              "    </tr>\n",
              "    <tr>\n",
              "      <th>num_procedures</th>\n",
              "      <td>-0.033707</td>\n",
              "      <td>-0.027238</td>\n",
              "      <td>-0.010424</td>\n",
              "      <td>0.172692</td>\n",
              "      <td>0.050340</td>\n",
              "      <td>1.000000</td>\n",
              "      <td>0.373698</td>\n",
              "      <td>-0.015059</td>\n",
              "      <td>-0.052321</td>\n",
              "      <td>-0.075417</td>\n",
              "      <td>-0.003872</td>\n",
              "      <td>0.063219</td>\n",
              "    </tr>\n",
              "    <tr>\n",
              "      <th>num_medications</th>\n",
              "      <td>0.089348</td>\n",
              "      <td>0.082206</td>\n",
              "      <td>0.031617</td>\n",
              "      <td>0.468098</td>\n",
              "      <td>0.261719</td>\n",
              "      <td>0.373698</td>\n",
              "      <td>1.000000</td>\n",
              "      <td>0.054799</td>\n",
              "      <td>0.023694</td>\n",
              "      <td>0.065876</td>\n",
              "      <td>-0.014327</td>\n",
              "      <td>0.258296</td>\n",
              "    </tr>\n",
              "    <tr>\n",
              "      <th>number_outpatient</th>\n",
              "      <td>0.111527</td>\n",
              "      <td>0.097744</td>\n",
              "      <td>0.101067</td>\n",
              "      <td>0.000830</td>\n",
              "      <td>-0.006792</td>\n",
              "      <td>-0.015059</td>\n",
              "      <td>0.054799</td>\n",
              "      <td>1.000000</td>\n",
              "      <td>0.101912</td>\n",
              "      <td>0.111757</td>\n",
              "      <td>-0.006036</td>\n",
              "      <td>0.090176</td>\n",
              "    </tr>\n",
              "    <tr>\n",
              "      <th>number_emergency</th>\n",
              "      <td>0.103822</td>\n",
              "      <td>0.093610</td>\n",
              "      <td>0.080213</td>\n",
              "      <td>-0.000456</td>\n",
              "      <td>-0.000059</td>\n",
              "      <td>-0.052321</td>\n",
              "      <td>0.023694</td>\n",
              "      <td>0.101912</td>\n",
              "      <td>1.000000</td>\n",
              "      <td>0.298741</td>\n",
              "      <td>0.001841</td>\n",
              "      <td>0.064558</td>\n",
              "    </tr>\n",
              "    <tr>\n",
              "      <th>number_inpatient</th>\n",
              "      <td>0.054839</td>\n",
              "      <td>0.046576</td>\n",
              "      <td>0.029273</td>\n",
              "      <td>0.076844</td>\n",
              "      <td>0.032014</td>\n",
              "      <td>-0.075417</td>\n",
              "      <td>0.065876</td>\n",
              "      <td>0.111757</td>\n",
              "      <td>0.298741</td>\n",
              "      <td>1.000000</td>\n",
              "      <td>-0.000396</td>\n",
              "      <td>0.109242</td>\n",
              "    </tr>\n",
              "    <tr>\n",
              "      <th>diag_5</th>\n",
              "      <td>0.005652</td>\n",
              "      <td>0.004329</td>\n",
              "      <td>0.004530</td>\n",
              "      <td>-0.014081</td>\n",
              "      <td>-0.001864</td>\n",
              "      <td>-0.003872</td>\n",
              "      <td>-0.014327</td>\n",
              "      <td>-0.006036</td>\n",
              "      <td>0.001841</td>\n",
              "      <td>-0.000396</td>\n",
              "      <td>1.000000</td>\n",
              "      <td>-0.016612</td>\n",
              "    </tr>\n",
              "    <tr>\n",
              "      <th>number_diagnoses</th>\n",
              "      <td>0.286863</td>\n",
              "      <td>0.271240</td>\n",
              "      <td>0.236691</td>\n",
              "      <td>0.216869</td>\n",
              "      <td>0.153761</td>\n",
              "      <td>0.063219</td>\n",
              "      <td>0.258296</td>\n",
              "      <td>0.090176</td>\n",
              "      <td>0.064558</td>\n",
              "      <td>0.109242</td>\n",
              "      <td>-0.016612</td>\n",
              "      <td>1.000000</td>\n",
              "    </tr>\n",
              "  </tbody>\n",
              "</table>\n",
              "</div>\n",
              "      <button class=\"colab-df-convert\" onclick=\"convertToInteractive('df-d5dd3555-505c-47ee-89e6-1c121e3d0025')\"\n",
              "              title=\"Convert this dataframe to an interactive table.\"\n",
              "              style=\"display:none;\">\n",
              "        \n",
              "  <svg xmlns=\"http://www.w3.org/2000/svg\" height=\"24px\"viewBox=\"0 0 24 24\"\n",
              "       width=\"24px\">\n",
              "    <path d=\"M0 0h24v24H0V0z\" fill=\"none\"/>\n",
              "    <path d=\"M18.56 5.44l.94 2.06.94-2.06 2.06-.94-2.06-.94-.94-2.06-.94 2.06-2.06.94zm-11 1L8.5 8.5l.94-2.06 2.06-.94-2.06-.94L8.5 2.5l-.94 2.06-2.06.94zm10 10l.94 2.06.94-2.06 2.06-.94-2.06-.94-.94-2.06-.94 2.06-2.06.94z\"/><path d=\"M17.41 7.96l-1.37-1.37c-.4-.4-.92-.59-1.43-.59-.52 0-1.04.2-1.43.59L10.3 9.45l-7.72 7.72c-.78.78-.78 2.05 0 2.83L4 21.41c.39.39.9.59 1.41.59.51 0 1.02-.2 1.41-.59l7.78-7.78 2.81-2.81c.8-.78.8-2.07 0-2.86zM5.41 20L4 18.59l7.72-7.72 1.47 1.35L5.41 20z\"/>\n",
              "  </svg>\n",
              "      </button>\n",
              "      \n",
              "  <style>\n",
              "    .colab-df-container {\n",
              "      display:flex;\n",
              "      flex-wrap:wrap;\n",
              "      gap: 12px;\n",
              "    }\n",
              "\n",
              "    .colab-df-convert {\n",
              "      background-color: #E8F0FE;\n",
              "      border: none;\n",
              "      border-radius: 50%;\n",
              "      cursor: pointer;\n",
              "      display: none;\n",
              "      fill: #1967D2;\n",
              "      height: 32px;\n",
              "      padding: 0 0 0 0;\n",
              "      width: 32px;\n",
              "    }\n",
              "\n",
              "    .colab-df-convert:hover {\n",
              "      background-color: #E2EBFA;\n",
              "      box-shadow: 0px 1px 2px rgba(60, 64, 67, 0.3), 0px 1px 3px 1px rgba(60, 64, 67, 0.15);\n",
              "      fill: #174EA6;\n",
              "    }\n",
              "\n",
              "    [theme=dark] .colab-df-convert {\n",
              "      background-color: #3B4455;\n",
              "      fill: #D2E3FC;\n",
              "    }\n",
              "\n",
              "    [theme=dark] .colab-df-convert:hover {\n",
              "      background-color: #434B5C;\n",
              "      box-shadow: 0px 1px 3px 1px rgba(0, 0, 0, 0.15);\n",
              "      filter: drop-shadow(0px 1px 2px rgba(0, 0, 0, 0.3));\n",
              "      fill: #FFFFFF;\n",
              "    }\n",
              "  </style>\n",
              "\n",
              "      <script>\n",
              "        const buttonEl =\n",
              "          document.querySelector('#df-d5dd3555-505c-47ee-89e6-1c121e3d0025 button.colab-df-convert');\n",
              "        buttonEl.style.display =\n",
              "          google.colab.kernel.accessAllowed ? 'block' : 'none';\n",
              "\n",
              "        async function convertToInteractive(key) {\n",
              "          const element = document.querySelector('#df-d5dd3555-505c-47ee-89e6-1c121e3d0025');\n",
              "          const dataTable =\n",
              "            await google.colab.kernel.invokeFunction('convertToInteractive',\n",
              "                                                     [key], {});\n",
              "          if (!dataTable) return;\n",
              "\n",
              "          const docLinkHtml = 'Like what you see? Visit the ' +\n",
              "            '<a target=\"_blank\" href=https://colab.research.google.com/notebooks/data_table.ipynb>data table notebook</a>'\n",
              "            + ' to learn more about interactive tables.';\n",
              "          element.innerHTML = '';\n",
              "          dataTable['output_type'] = 'display_data';\n",
              "          await google.colab.output.renderOutput(dataTable, element);\n",
              "          const docLink = document.createElement('div');\n",
              "          docLink.innerHTML = docLinkHtml;\n",
              "          element.appendChild(docLink);\n",
              "        }\n",
              "      </script>\n",
              "    </div>\n",
              "  </div>\n",
              "  "
            ]
          },
          "metadata": {},
          "execution_count": 73
        }
      ]
    },
    {
      "cell_type": "code",
      "source": [
        "train_data.isnull().sum()"
      ],
      "metadata": {
        "colab": {
          "base_uri": "https://localhost:8080/"
        },
        "id": "LuJjF53fthmB",
        "outputId": "f96e6e40-b6a2-4e00-df79-458c3677fce4"
      },
      "execution_count": null,
      "outputs": [
        {
          "output_type": "execute_result",
          "data": {
            "text/plain": [
              "index                     0\n",
              "encounter_id              0\n",
              "patient_id                0\n",
              "race                   1504\n",
              "gender                    0\n",
              "age                       0\n",
              "weight                64454\n",
              "time_in_hospital          0\n",
              "medical_specialty     32672\n",
              "num_lab_procedures        0\n",
              "num_procedures            0\n",
              "num_medications           0\n",
              "number_outpatient         0\n",
              "number_emergency          0\n",
              "number_inpatient          0\n",
              "diag_1                   15\n",
              "diag_2                  231\n",
              "diag_3                  954\n",
              "diag_4                  954\n",
              "diag_5                    0\n",
              "number_diagnoses          0\n",
              "X1                        0\n",
              "X2                        0\n",
              "X3                        0\n",
              "X4                        0\n",
              "X5                        0\n",
              "X6                        0\n",
              "X7                        0\n",
              "X8                        0\n",
              "X9                        0\n",
              "X10                       0\n",
              "X11                       0\n",
              "X12                       0\n",
              "X13                       0\n",
              "X14                       0\n",
              "X15                       0\n",
              "X16                       0\n",
              "X17                       0\n",
              "X18                       0\n",
              "X19                       0\n",
              "X20                       0\n",
              "X21                       0\n",
              "X22                       0\n",
              "X23                       0\n",
              "X24                       0\n",
              "X25                       0\n",
              "change                    0\n",
              "diabetesMed               0\n",
              "readmitted                0\n",
              "dtype: int64"
            ]
          },
          "metadata": {},
          "execution_count": 74
        }
      ]
    },
    {
      "cell_type": "code",
      "source": [
        "train_data['race'] = train_data['race'].fillna('NaN')\n",
        "train_data['weight'] = train_data['weight'].fillna('NaN')\n",
        "train_data['medical_specialty'] = train_data['medical_specialty'].fillna('NaN')\n",
        "train_data['diag_1'] = train_data['diag_1'].fillna('NaN')\n",
        "train_data['diag_2'] = train_data['diag_2'].fillna('NaN')\n",
        "train_data['diag_3'] = train_data['diag_3'].fillna('NaN')\n",
        "train_data['diag_4'] = train_data['diag_4'].fillna('NaN')"
      ],
      "metadata": {
        "id": "wytvOjF1tlCo"
      },
      "execution_count": null,
      "outputs": []
    },
    {
      "cell_type": "code",
      "source": [
        "train_data.isnull().sum()"
      ],
      "metadata": {
        "colab": {
          "base_uri": "https://localhost:8080/"
        },
        "id": "4A_TDn-Ntv8Z",
        "outputId": "eddbf8d8-6083-4420-8943-1a2982236e9b"
      },
      "execution_count": null,
      "outputs": [
        {
          "output_type": "execute_result",
          "data": {
            "text/plain": [
              "index                 0\n",
              "encounter_id          0\n",
              "patient_id            0\n",
              "race                  0\n",
              "gender                0\n",
              "age                   0\n",
              "weight                0\n",
              "time_in_hospital      0\n",
              "medical_specialty     0\n",
              "num_lab_procedures    0\n",
              "num_procedures        0\n",
              "num_medications       0\n",
              "number_outpatient     0\n",
              "number_emergency      0\n",
              "number_inpatient      0\n",
              "diag_1                0\n",
              "diag_2                0\n",
              "diag_3                0\n",
              "diag_4                0\n",
              "diag_5                0\n",
              "number_diagnoses      0\n",
              "X1                    0\n",
              "X2                    0\n",
              "X3                    0\n",
              "X4                    0\n",
              "X5                    0\n",
              "X6                    0\n",
              "X7                    0\n",
              "X8                    0\n",
              "X9                    0\n",
              "X10                   0\n",
              "X11                   0\n",
              "X12                   0\n",
              "X13                   0\n",
              "X14                   0\n",
              "X15                   0\n",
              "X16                   0\n",
              "X17                   0\n",
              "X18                   0\n",
              "X19                   0\n",
              "X20                   0\n",
              "X21                   0\n",
              "X22                   0\n",
              "X23                   0\n",
              "X24                   0\n",
              "X25                   0\n",
              "change                0\n",
              "diabetesMed           0\n",
              "readmitted            0\n",
              "dtype: int64"
            ]
          },
          "metadata": {},
          "execution_count": 76
        }
      ]
    },
    {
      "cell_type": "code",
      "source": [
        "test_data.isnull().sum()"
      ],
      "metadata": {
        "colab": {
          "base_uri": "https://localhost:8080/"
        },
        "id": "0cEGUNlkty-o",
        "outputId": "a8ee2684-a4ff-4241-daaa-3a09eea4bdb7"
      },
      "execution_count": null,
      "outputs": [
        {
          "output_type": "execute_result",
          "data": {
            "text/plain": [
              "index                     0\n",
              "encounter_id              0\n",
              "patient_id                0\n",
              "race                    371\n",
              "gender                    0\n",
              "age                       0\n",
              "weight                16107\n",
              "time_in_hospital          0\n",
              "medical_specialty      8081\n",
              "num_lab_procedures        0\n",
              "num_procedures            0\n",
              "num_medications           0\n",
              "number_outpatient         0\n",
              "number_emergency          0\n",
              "number_inpatient          0\n",
              "diag_1                    3\n",
              "diag_2                   63\n",
              "diag_3                  247\n",
              "diag_4                  247\n",
              "diag_5                    0\n",
              "number_diagnoses          0\n",
              "X1                        0\n",
              "X2                        0\n",
              "X3                        0\n",
              "X4                        0\n",
              "X5                        0\n",
              "X6                        0\n",
              "X7                        0\n",
              "X8                        0\n",
              "X9                        0\n",
              "X10                       0\n",
              "X11                       0\n",
              "X12                       0\n",
              "X13                       0\n",
              "X14                       0\n",
              "X15                       0\n",
              "X16                       0\n",
              "X17                       0\n",
              "X18                       0\n",
              "X19                       0\n",
              "X20                       0\n",
              "X21                       0\n",
              "X22                       0\n",
              "X23                       0\n",
              "X24                       0\n",
              "X25                       0\n",
              "change                    0\n",
              "diabetesMed               0\n",
              "dtype: int64"
            ]
          },
          "metadata": {},
          "execution_count": 77
        }
      ]
    },
    {
      "cell_type": "code",
      "source": [
        "test_data['race'] = train_data['race'].fillna('NaN')\n",
        "test_data['weight'] = train_data['weight'].fillna('NaN')\n",
        "test_data['medical_specialty'] = train_data['medical_specialty'].fillna('NaN')\n",
        "test_data['diag_1'] = train_data['diag_1'].fillna('NaN')\n",
        "test_data['diag_2'] = train_data['diag_2'].fillna('NaN')\n",
        "test_data['diag_3'] = train_data['diag_3'].fillna('NaN')\n",
        "test_data['diag_4'] = train_data['diag_4'].fillna('NaN')"
      ],
      "metadata": {
        "id": "cmIhOc0yt9N3"
      },
      "execution_count": null,
      "outputs": []
    },
    {
      "cell_type": "code",
      "source": [
        "test_data.isnull().sum()"
      ],
      "metadata": {
        "colab": {
          "base_uri": "https://localhost:8080/"
        },
        "id": "1NtjSyRAuBVN",
        "outputId": "c6ea4b83-0f4a-4aad-cace-a2a605b64a1d"
      },
      "execution_count": null,
      "outputs": [
        {
          "output_type": "execute_result",
          "data": {
            "text/plain": [
              "index                 0\n",
              "encounter_id          0\n",
              "patient_id            0\n",
              "race                  0\n",
              "gender                0\n",
              "age                   0\n",
              "weight                0\n",
              "time_in_hospital      0\n",
              "medical_specialty     0\n",
              "num_lab_procedures    0\n",
              "num_procedures        0\n",
              "num_medications       0\n",
              "number_outpatient     0\n",
              "number_emergency      0\n",
              "number_inpatient      0\n",
              "diag_1                0\n",
              "diag_2                0\n",
              "diag_3                0\n",
              "diag_4                0\n",
              "diag_5                0\n",
              "number_diagnoses      0\n",
              "X1                    0\n",
              "X2                    0\n",
              "X3                    0\n",
              "X4                    0\n",
              "X5                    0\n",
              "X6                    0\n",
              "X7                    0\n",
              "X8                    0\n",
              "X9                    0\n",
              "X10                   0\n",
              "X11                   0\n",
              "X12                   0\n",
              "X13                   0\n",
              "X14                   0\n",
              "X15                   0\n",
              "X16                   0\n",
              "X17                   0\n",
              "X18                   0\n",
              "X19                   0\n",
              "X20                   0\n",
              "X21                   0\n",
              "X22                   0\n",
              "X23                   0\n",
              "X24                   0\n",
              "X25                   0\n",
              "change                0\n",
              "diabetesMed           0\n",
              "dtype: int64"
            ]
          },
          "metadata": {},
          "execution_count": 79
        }
      ]
    },
    {
      "cell_type": "code",
      "source": [
        "train_data['readmitted'].value_counts()"
      ],
      "metadata": {
        "colab": {
          "base_uri": "https://localhost:8080/"
        },
        "id": "OyGYXbtxuEGg",
        "outputId": "4b258d2c-cee4-4d9d-8e0b-14111012c4f4"
      },
      "execution_count": null,
      "outputs": [
        {
          "output_type": "execute_result",
          "data": {
            "text/plain": [
              "0    35823\n",
              "1    30764\n",
              "Name: readmitted, dtype: int64"
            ]
          },
          "metadata": {},
          "execution_count": 80
        }
      ]
    },
    {
      "cell_type": "code",
      "source": [
        "# No. of readmission\n",
        "sns.countplot(train_data['readmitted']).set_title('Number of patients readmitted')\n",
        "plt.show"
      ],
      "metadata": {
        "colab": {
          "base_uri": "https://localhost:8080/",
          "height": 367
        },
        "id": "GY8N3DJeuKNj",
        "outputId": "b1616756-a822-4101-82b3-e59ff3d04205"
      },
      "execution_count": null,
      "outputs": [
        {
          "output_type": "stream",
          "name": "stderr",
          "text": [
            "/usr/local/lib/python3.7/dist-packages/seaborn/_decorators.py:43: FutureWarning: Pass the following variable as a keyword arg: x. From version 0.12, the only valid positional argument will be `data`, and passing other arguments without an explicit keyword will result in an error or misinterpretation.\n",
            "  FutureWarning\n"
          ]
        },
        {
          "output_type": "execute_result",
          "data": {
            "text/plain": [
              "<function matplotlib.pyplot.show(*args, **kw)>"
            ]
          },
          "metadata": {},
          "execution_count": 81
        },
        {
          "output_type": "display_data",
          "data": {
            "text/plain": [
              "<Figure size 432x288 with 1 Axes>"
            ],
            "image/png": "[encoded data removed]"
          },
          "metadata": {
            "needs_background": "light"
          }
        }
      ]
    },
    {
      "cell_type": "code",
      "source": [
        "train_data['time_in_hospital'].value_counts()"
      ],
      "metadata": {
        "colab": {
          "base_uri": "https://localhost:8080/"
        },
        "id": "RMlTjJhduNU0",
        "outputId": "22be9b4d-f509-424e-c5c1-2edaa11273d7"
      },
      "execution_count": null,
      "outputs": [
        {
          "output_type": "execute_result",
          "data": {
            "text/plain": [
              "3     11684\n",
              "2     11370\n",
              "1      9132\n",
              "4      9105\n",
              "5      6554\n",
              "6      5027\n",
              "7      3758\n",
              "8      2825\n",
              "9      1899\n",
              "10     1552\n",
              "11     1237\n",
              "12     1006\n",
              "13      787\n",
              "14      651\n",
              "Name: time_in_hospital, dtype: int64"
            ]
          },
          "metadata": {},
          "execution_count": 82
        }
      ]
    },
    {
      "cell_type": "code",
      "source": [
        "# Time spent in Hospital\n",
        "sns.countplot(train_data['time_in_hospital']).set_title('Time in Hospital')\n",
        "plt.show"
      ],
      "metadata": {
        "colab": {
          "base_uri": "https://localhost:8080/",
          "height": 368
        },
        "id": "QRmI320ouP5L",
        "outputId": "9a511a34-a2de-4fd9-b4cf-281593d6f672"
      },
      "execution_count": null,
      "outputs": [
        {
          "output_type": "stream",
          "name": "stderr",
          "text": [
            "/usr/local/lib/python3.7/dist-packages/seaborn/_decorators.py:43: FutureWarning: Pass the following variable as a keyword arg: x. From version 0.12, the only valid positional argument will be `data`, and passing other arguments without an explicit keyword will result in an error or misinterpretation.\n",
            "  FutureWarning\n"
          ]
        },
        {
          "output_type": "execute_result",
          "data": {
            "text/plain": [
              "<function matplotlib.pyplot.show(*args, **kw)>"
            ]
          },
          "metadata": {},
          "execution_count": 83
        },
        {
          "output_type": "display_data",
          "data": {
            "text/plain": [
              "<Figure size 432x288 with 1 Axes>"
            ],
            "image/png": "[encoded data removed]"
          },
          "metadata": {
            "needs_background": "light"
          }
        }
      ]
    },
    {
      "cell_type": "code",
      "source": [
        "# Time vs Readmitted\n",
        "\n",
        "fig_1 = plt.figure(figsize = (20, 10))\n",
        "sns.countplot(x = train_data['time_in_hospital'], hue = train_data['readmitted']).set_title('Time Spent vs Readmitted')"
      ],
      "metadata": {
        "colab": {
          "base_uri": "https://localhost:8080/",
          "height": 639
        },
        "id": "70sQ9oHguSq5",
        "outputId": "be335e13-6f43-48b8-bfe0-2c8aaeb8af41"
      },
      "execution_count": null,
      "outputs": [
        {
          "output_type": "execute_result",
          "data": {
            "text/plain": [
              "Text(0.5, 1.0, 'Time Spent vs Readmitted')"
            ]
          },
          "metadata": {},
          "execution_count": 84
        },
        {
          "output_type": "display_data",
          "data": {
            "text/plain": [
              "<Figure size 1440x720 with 1 Axes>"
            ],
            "image/png": "[encoded data removed]"
          },
          "metadata": {
            "needs_background": "light"
          }
        }
      ]
    },
    {
      "cell_type": "code",
      "source": [
        "train_data['age'].value_counts()"
      ],
      "metadata": {
        "colab": {
          "base_uri": "https://localhost:8080/"
        },
        "id": "Kb3IwT5xuVdm",
        "outputId": "40076e8d-d247-4e5b-8675-b5234caca0cd"
      },
      "execution_count": null,
      "outputs": [
        {
          "output_type": "execute_result",
          "data": {
            "text/plain": [
              "[70-80)     17031\n",
              "[60-70)     14845\n",
              "[50-60)     11378\n",
              "[80-90)     11080\n",
              "[40-50)      6324\n",
              "[30-40)      2414\n",
              "[90-100)     1833\n",
              "[20-30)      1154\n",
              "[10-20)       428\n",
              "[0-10)        100\n",
              "Name: age, dtype: int64"
            ]
          },
          "metadata": {},
          "execution_count": 85
        }
      ]
    },
    {
      "cell_type": "code",
      "source": [
        "# Age of patients\n",
        "fig_age = plt.figure(figsize = (10, 10))\n",
        "sns.countplot(train_data['age']).set_title('Age of patients')\n",
        "plt.show"
      ],
      "metadata": {
        "colab": {
          "base_uri": "https://localhost:8080/",
          "height": 693
        },
        "id": "uMQWIvRHuY2E",
        "outputId": "4ef6afda-c81d-423c-cba8-aef15f89fdb3"
      },
      "execution_count": null,
      "outputs": [
        {
          "output_type": "stream",
          "name": "stderr",
          "text": [
            "/usr/local/lib/python3.7/dist-packages/seaborn/_decorators.py:43: FutureWarning: Pass the following variable as a keyword arg: x. From version 0.12, the only valid positional argument will be `data`, and passing other arguments without an explicit keyword will result in an error or misinterpretation.\n",
            "  FutureWarning\n"
          ]
        },
        {
          "output_type": "execute_result",
          "data": {
            "text/plain": [
              "<function matplotlib.pyplot.show(*args, **kw)>"
            ]
          },
          "metadata": {},
          "execution_count": 86
        },
        {
          "output_type": "display_data",
          "data": {
            "text/plain": [
              "<Figure size 720x720 with 1 Axes>"
            ],
            "image/png": "[encoded data removed]"
          },
          "metadata": {
            "needs_background": "light"
          }
        }
      ]
    },
    {
      "cell_type": "code",
      "source": [
        "# Age vs Readmitted\n",
        "\n",
        "fig_2 = plt.figure(figsize = (20, 10))\n",
        "sns.countplot(x = train_data['age'], hue = train_data['readmitted']).set_title('Age vs Readmitted')"
      ],
      "metadata": {
        "colab": {
          "base_uri": "https://localhost:8080/",
          "height": 638
        },
        "id": "y4tm63cBudKz",
        "outputId": "b1cbdf21-32d4-409a-94cc-47cd2a7e1774"
      },
      "execution_count": null,
      "outputs": [
        {
          "output_type": "execute_result",
          "data": {
            "text/plain": [
              "Text(0.5, 1.0, 'Age vs Readmitted')"
            ]
          },
          "metadata": {},
          "execution_count": 87
        },
        {
          "output_type": "display_data",
          "data": {
            "text/plain": [
              "<Figure size 1440x720 with 1 Axes>"
            ],
            "image/png": "[encoded data removed]"
          },
          "metadata": {
            "needs_background": "light"
          }
        }
      ]
    },
    {
      "cell_type": "code",
      "source": [
        "train_data['gender'].value_counts()"
      ],
      "metadata": {
        "colab": {
          "base_uri": "https://localhost:8080/"
        },
        "id": "mioQhmyrugBH",
        "outputId": "73366080-54c6-459d-a195-219f3d3824a4"
      },
      "execution_count": null,
      "outputs": [
        {
          "output_type": "execute_result",
          "data": {
            "text/plain": [
              "Female             35973\n",
              "Male               30612\n",
              "Unknown/Invalid        2\n",
              "Name: gender, dtype: int64"
            ]
          },
          "metadata": {},
          "execution_count": 88
        }
      ]
    },
    {
      "cell_type": "code",
      "source": [
        "# Gender vs Readmitted\n",
        "\n",
        "fig_3 = plt.figure(figsize = (5, 5))\n",
        "sns.countplot(x = train_data['gender'], hue = train_data['readmitted']).set_title('Age vs Readmitted')"
      ],
      "metadata": {
        "colab": {
          "base_uri": "https://localhost:8080/",
          "height": 367
        },
        "id": "8TxGkmMOuiYo",
        "outputId": "82d5c377-1dbb-4764-e159-ef7ff34c12b9"
      },
      "execution_count": null,
      "outputs": [
        {
          "output_type": "execute_result",
          "data": {
            "text/plain": [
              "Text(0.5, 1.0, 'Age vs Readmitted')"
            ]
          },
          "metadata": {},
          "execution_count": 89
        },
        {
          "output_type": "display_data",
          "data": {
            "text/plain": [
              "<Figure size 360x360 with 1 Axes>"
            ],
            "image/png": "[encoded data removed]"
          },
          "metadata": {
            "needs_background": "light"
          }
        }
      ]
    },
    {
      "cell_type": "code",
      "source": [
        "train_data['race'].value_counts()"
      ],
      "metadata": {
        "colab": {
          "base_uri": "https://localhost:8080/"
        },
        "id": "M7mbj3pzux8C",
        "outputId": "01dba4fa-7712-43a9-cb10-b72b4d5d96a0"
      },
      "execution_count": null,
      "outputs": [
        {
          "output_type": "execute_result",
          "data": {
            "text/plain": [
              "Caucasian          49906\n",
              "AfricanAmerican    12406\n",
              "NaN                 1504\n",
              "Hispanic            1313\n",
              "Other               1050\n",
              "Asian                408\n",
              "Name: race, dtype: int64"
            ]
          },
          "metadata": {},
          "execution_count": 90
        }
      ]
    },
    {
      "cell_type": "code",
      "source": [
        "# Race \n",
        "\n",
        "fig_race = plt.figure(figsize = (8, 5))\n",
        "sns.countplot(train_data['race']).set_title('Patients of different races')\n",
        "plt.show"
      ],
      "metadata": {
        "colab": {
          "base_uri": "https://localhost:8080/",
          "height": 422
        },
        "id": "AgxsKr3gu1kp",
        "outputId": "fc02fc28-fba3-4723-bdb3-3f5cf4f7be64"
      },
      "execution_count": null,
      "outputs": [
        {
          "output_type": "stream",
          "name": "stderr",
          "text": [
            "/usr/local/lib/python3.7/dist-packages/seaborn/_decorators.py:43: FutureWarning: Pass the following variable as a keyword arg: x. From version 0.12, the only valid positional argument will be `data`, and passing other arguments without an explicit keyword will result in an error or misinterpretation.\n",
            "  FutureWarning\n"
          ]
        },
        {
          "output_type": "execute_result",
          "data": {
            "text/plain": [
              "<function matplotlib.pyplot.show(*args, **kw)>"
            ]
          },
          "metadata": {},
          "execution_count": 91
        },
        {
          "output_type": "display_data",
          "data": {
            "text/plain": [
              "<Figure size 576x360 with 1 Axes>"
            ],
            "image/png": "[encoded data removed]"
          },
          "metadata": {
            "needs_background": "light"
          }
        }
      ]
    },
    {
      "cell_type": "code",
      "source": [
        "# Race vs Readmitted\n",
        "\n",
        "fig_3 = plt.figure(figsize = (8, 5))\n",
        "sns.countplot(x = train_data['race'], hue = train_data['readmitted']).set_title('Race vs Readmitted')"
      ],
      "metadata": {
        "colab": {
          "base_uri": "https://localhost:8080/",
          "height": 367
        },
        "id": "-gcSS7Rwu3zU",
        "outputId": "ea65e28c-105c-4c75-f428-e2d7b83c459a"
      },
      "execution_count": null,
      "outputs": [
        {
          "output_type": "execute_result",
          "data": {
            "text/plain": [
              "Text(0.5, 1.0, 'Race vs Readmitted')"
            ]
          },
          "metadata": {},
          "execution_count": 92
        },
        {
          "output_type": "display_data",
          "data": {
            "text/plain": [
              "<Figure size 576x360 with 1 Axes>"
            ],
            "image/png": "[encoded data removed]"
          },
          "metadata": {
            "needs_background": "light"
          }
        }
      ]
    },
    {
      "cell_type": "code",
      "source": [
        "# Number of lab procedures\n",
        "train_data['num_lab_procedures'].value_counts()"
      ],
      "metadata": {
        "colab": {
          "base_uri": "https://localhost:8080/"
        },
        "id": "yjWNPP9Nu63d",
        "outputId": "08db039a-b5ab-407a-eced-16f9f48a3c39"
      },
      "execution_count": null,
      "outputs": [
        {
          "output_type": "execute_result",
          "data": {
            "text/plain": [
              "1      2005\n",
              "43     1861\n",
              "45     1597\n",
              "44     1592\n",
              "46     1446\n",
              "       ... \n",
              "129       1\n",
              "113       1\n",
              "120       1\n",
              "118       1\n",
              "104       1\n",
              "Name: num_lab_procedures, Length: 113, dtype: int64"
            ]
          },
          "metadata": {},
          "execution_count": 93
        }
      ]
    },
    {
      "cell_type": "code",
      "source": [
        "fig_lab = plt.figure(figsize = (35, 15))\n",
        "sns.countplot(train_data['num_lab_procedures']).set_title('Lab Procedures')\n",
        "plt.show"
      ],
      "metadata": {
        "colab": {
          "base_uri": "https://localhost:8080/",
          "height": 673
        },
        "id": "yzO9a-upvFOB",
        "outputId": "aad4ffc4-f2e1-414e-ddd7-55a9a3741fd0"
      },
      "execution_count": null,
      "outputs": [
        {
          "output_type": "stream",
          "name": "stderr",
          "text": [
            "/usr/local/lib/python3.7/dist-packages/seaborn/_decorators.py:43: FutureWarning: Pass the following variable as a keyword arg: x. From version 0.12, the only valid positional argument will be `data`, and passing other arguments without an explicit keyword will result in an error or misinterpretation.\n",
            "  FutureWarning\n"
          ]
        },
        {
          "output_type": "execute_result",
          "data": {
            "text/plain": [
              "<function matplotlib.pyplot.show(*args, **kw)>"
            ]
          },
          "metadata": {},
          "execution_count": 94
        },
        {
          "output_type": "display_data",
          "data": {
            "text/plain": [
              "<Figure size 2520x1080 with 1 Axes>"
            ],
            "image/png": "[encoded data removed]"
          },
          "metadata": {
            "needs_background": "light"
          }
        }
      ]
    },
    {
      "cell_type": "code",
      "source": [
        "# Readmission vs Num of Lab Procedures \n",
        "fig = plt.figure(figsize=(15,6),)\n",
        "axis=sns.kdeplot(train_data.loc[(train_data['readmitted'] == 0),'num_lab_procedures'] , color='g',shade = False,label = 'Not readmitted')\n",
        "axis=sns.kdeplot(train_data.loc[(train_data['readmitted'] == 1),'num_lab_procedures'] , color='b',shade = False, label = 'readmitted')\n",
        "axis.set(xlabel = 'Number of lab procedure', ylabel = 'Frequency')\n",
        "plt.title(' Readmission vs Number of lab procedure')"
      ],
      "metadata": {
        "colab": {
          "base_uri": "https://localhost:8080/",
          "height": 421
        },
        "id": "jkuJF9XCvNfr",
        "outputId": "dbcda017-b598-4caa-962c-bd6246b7d4fb"
      },
      "execution_count": null,
      "outputs": [
        {
          "output_type": "execute_result",
          "data": {
            "text/plain": [
              "Text(0.5, 1.0, ' Readmission vs Number of lab procedure')"
            ]
          },
          "metadata": {},
          "execution_count": 95
        },
        {
          "output_type": "display_data",
          "data": {
            "text/plain": [
              "<Figure size 1080x432 with 1 Axes>"
            ],
            "image/png": "[encoded data removed]"
          },
          "metadata": {
            "needs_background": "light"
          }
        }
      ]
    },
    {
      "cell_type": "code",
      "source": [
        "#Checking for singular data values from X1-X10\n",
        "train_data[['X1', 'X2', 'X3', 'X4', 'X5', 'X6', 'X7', 'X8', 'X9', 'X10']].value_counts()"
      ],
      "metadata": {
        "colab": {
          "base_uri": "https://localhost:8080/"
        },
        "id": "wY1BXYzKvRdK",
        "outputId": "5a27b495-3965-4fd4-8eda-15c94328f59b"
      },
      "execution_count": null,
      "outputs": [
        {
          "output_type": "execute_result",
          "data": {
            "text/plain": [
              "X1    X2    X3      X4      X5      X6      X7      X8  X9      X10   \n",
              "None  None  No      No      No      No      No      No  No      No        31253\n",
              "            Steady  No      No      No      No      No  No      No         5214\n",
              "            No      No      No      No      No      No  Steady  No         4147\n",
              "                                                        No      Steady     2966\n",
              "      >8    No      No      No      No      No      No  No      No         2879\n",
              "                                                                          ...  \n",
              ">300  >8    No      Steady  No      No      No      No  Down    No            1\n",
              "None  None  Up      No      No      No      Steady  No  Down    No            1\n",
              "            Down    No      No      Steady  No      No  No      No            1\n",
              "                            Steady  No      No      No  No      No            1\n",
              "      >8    Up      No      No      No      No      No  Steady  Steady        1\n",
              "Length: 423, dtype: int64"
            ]
          },
          "metadata": {},
          "execution_count": 96
        }
      ]
    },
    {
      "cell_type": "code",
      "source": [
        "#Checking for singular data values from X11-X20\n",
        "train_data[['X11', 'X12', 'X13', 'X14', 'X15', 'X16', 'X17', 'X18', 'X19', 'X20']].value_counts()"
      ],
      "metadata": {
        "colab": {
          "base_uri": "https://localhost:8080/"
        },
        "id": "kycDlJtpvec1",
        "outputId": "be623925-3ce7-4b18-fc46-7d81dca3f356"
      },
      "execution_count": null,
      "outputs": [
        {
          "output_type": "execute_result",
          "data": {
            "text/plain": [
              "X11     X12     X13  X14     X15     X16  X17     X18  X19  X20   \n",
              "No      No      No   No      No      No   No      No   No   No        26930\n",
              "                                                            Steady    17105\n",
              "                                                            Down       6938\n",
              "                                                            Up         6454\n",
              "        Steady  No   No      No      No   No      No   No   No         2131\n",
              "                                                                      ...  \n",
              "                                          Steady  No   No   No            1\n",
              "                                                            Steady        1\n",
              "                     Steady  No      No   No      No   No   Down          1\n",
              "                     No      Steady  No   No      No   No   Up            1\n",
              "Steady  No      No   No      No      No   No      No   No   Up            1\n",
              "Length: 75, dtype: int64"
            ]
          },
          "metadata": {},
          "execution_count": 97
        }
      ]
    },
    {
      "cell_type": "code",
      "source": [
        "#Checking for singular data values from X21-X25\n",
        "train_data[['X21', 'X22', 'X23', 'X24', 'X25']].value_counts()"
      ],
      "metadata": {
        "colab": {
          "base_uri": "https://localhost:8080/"
        },
        "id": "Uj82PzEIvh1w",
        "outputId": "7d541bff-875c-4b32-96c9-666e063da363"
      },
      "execution_count": null,
      "outputs": [
        {
          "output_type": "execute_result",
          "data": {
            "text/plain": [
              "X21     X22     X23     X24     X25\n",
              "No      No      No      No      No     66093\n",
              "Steady  No      No      No      No       466\n",
              "No      Steady  No      No      No        11\n",
              "Down    No      No      No      No         5\n",
              "No      No      No      Steady  No         5\n",
              "Up      No      No      No      No         5\n",
              "No      No      Steady  No      No         1\n",
              "Steady  Steady  No      No      No         1\n",
              "dtype: int64"
            ]
          },
          "metadata": {},
          "execution_count": 98
        }
      ]
    },
    {
      "cell_type": "code",
      "source": [
        "# Found singular value in the following\n",
        "train_data[['X8', 'X18', 'X19', 'X25']].value_counts()"
      ],
      "metadata": {
        "colab": {
          "base_uri": "https://localhost:8080/"
        },
        "id": "aBy5KwylvkXj",
        "outputId": "dbb41f5f-f331-4e0b-afc2-cab46abcddd8"
      },
      "execution_count": null,
      "outputs": [
        {
          "output_type": "execute_result",
          "data": {
            "text/plain": [
              "X8  X18  X19  X25\n",
              "No  No   No   No     66587\n",
              "dtype: int64"
            ]
          },
          "metadata": {},
          "execution_count": 99
        }
      ]
    },
    {
      "cell_type": "code",
      "source": [
        "# Dropping Columns : X8,X18,X19,X25 (It has single values in the Data frame\n",
        "train_data.drop(['index','weight','medical_specialty','X8','X18','X19','X25','diag_1','diag_2','diag_3','diag_4','diag_5'],axis=1,inplace=True)\n",
        "test_data.drop(['index','weight','medical_specialty','X8','X18','X19','X25','diag_1','diag_2','diag_3','diag_4','diag_5'],axis=1,inplace=True)"
      ],
      "metadata": {
        "id": "3edYyMYevoSX"
      },
      "execution_count": null,
      "outputs": []
    },
    {
      "cell_type": "code",
      "source": [
        "train_data.shape,test_data.shape"
      ],
      "metadata": {
        "colab": {
          "base_uri": "https://localhost:8080/"
        },
        "id": "wNGM7JCewC0d",
        "outputId": "b0af52b3-4903-4a5a-e814-e1b9e8ffb72c"
      },
      "execution_count": null,
      "outputs": [
        {
          "output_type": "execute_result",
          "data": {
            "text/plain": [
              "((66587, 37), (16647, 36))"
            ]
          },
          "metadata": {},
          "execution_count": 101
        }
      ]
    },
    {
      "cell_type": "code",
      "source": [
        "# Converting the value form int to category\n",
        "train_data['readmitted'] = train_data.readmitted.astype('category')"
      ],
      "metadata": {
        "id": "6skS4sNqwPwm"
      },
      "execution_count": null,
      "outputs": []
    },
    {
      "cell_type": "code",
      "source": [
        "column_encoding = ['encounter_id','patient_id','time_in_hospital','num_lab_procedures','num_procedures','num_medications','number_outpatient','number_emergency','number_inpatient','number_diagnoses','race','gender','age','X1','X2','X3','X4','X5','X6','X7','X9','X10','X11','X12','X13','X14','X15','X16','X17',\n",
        "             'X20','X21','X22','X23','X24','change','diabetesMed']\n",
        "for i in column_encoding:\n",
        "    train_data[i] = LabelEncoder().fit_transform(train_data[i])\n",
        "    test_data[i] = LabelEncoder().fit_transform(test_data[i])"
      ],
      "metadata": {
        "id": "-Kq5xVt-w7m3"
      },
      "execution_count": null,
      "outputs": []
    },
    {
      "cell_type": "code",
      "source": [
        "train_data.shape,test_data.shape"
      ],
      "metadata": {
        "colab": {
          "base_uri": "https://localhost:8080/"
        },
        "id": "xjBwwNYAxMm6",
        "outputId": "2c0e4f4e-22bb-409e-b0b8-1d3ee937e3ac"
      },
      "execution_count": null,
      "outputs": [
        {
          "output_type": "execute_result",
          "data": {
            "text/plain": [
              "((66587, 37), (16647, 36))"
            ]
          },
          "metadata": {},
          "execution_count": 105
        }
      ]
    },
    {
      "cell_type": "code",
      "source": [
        "X = train_data.drop(['readmitted'],axis=1)\n",
        "y = train_data['readmitted']"
      ],
      "metadata": {
        "id": "XO-Qu2AMxSW4"
      },
      "execution_count": null,
      "outputs": []
    },
    {
      "cell_type": "code",
      "source": [
        "# train test split\n",
        "from sklearn.model_selection import train_test_split\n",
        "X_train,X_test,y_train,y_test = train_test_split(X,y,test_size=0.2,random_state=123)"
      ],
      "metadata": {
        "id": "4GkyN6GGxpT3"
      },
      "execution_count": null,
      "outputs": []
    },
    {
      "cell_type": "code",
      "source": [
        "# Decision tree classification model\n",
        "from sklearn.tree import DecisionTreeClassifier"
      ],
      "metadata": {
        "id": "6sKzybOnyLUq"
      },
      "execution_count": null,
      "outputs": []
    },
    {
      "cell_type": "code",
      "source": [
        "from sklearn.metrics import accuracy_score, precision_score, recall_score, f1_score"
      ],
      "metadata": {
        "id": "LTIMhr3MQp73"
      },
      "execution_count": null,
      "outputs": []
    },
    {
      "cell_type": "code",
      "source": [
        "dt = DecisionTreeClassifier()\n",
        "dt.fit(X_train,y_train)\n",
        "dt_pred = dt.predict(X_test)\n",
        "pd.crosstab(pd.Series(y_test,name='Actual'),pd.Series(dt_pred,name='Predict'),margins=True)\n",
        "print(\"Accuracy = {0:.2f}\".format(accuracy_score(y_test, dt_pred)))\n",
        "print(\"Precision = {0:.2f}\".format(precision_score(y_test, dt_pred)))\n",
        "print(\"Recall = {0:.2f}\".format(recall_score(y_test, dt_pred)))\n",
        "print(\"F1 Score  = {0:.2f}\".format(f1_score(y_test,dt_pred)))"
      ],
      "metadata": {
        "colab": {
          "base_uri": "https://localhost:8080/"
        },
        "id": "YaV0LCvzzE9g",
        "outputId": "24d9ea2c-63e3-4ae2-dce3-74c0130b9416"
      },
      "execution_count": null,
      "outputs": [
        {
          "output_type": "stream",
          "name": "stdout",
          "text": [
            "Accuracy = 0.75\n",
            "Precision = 0.72\n",
            "Recall = 0.74\n",
            "F1 Score  = 0.73\n"
          ]
        }
      ]
    },
    {
      "cell_type": "code",
      "source": [
        "prediction = dt.predict(test_data)"
      ],
      "metadata": {
        "id": "n60iBpds_S3f"
      },
      "execution_count": null,
      "outputs": []
    },
    {
      "cell_type": "code",
      "source": [
        "prediction"
      ],
      "metadata": {
        "colab": {
          "base_uri": "https://localhost:8080/"
        },
        "id": "PyqgD9Wm_ay1",
        "outputId": "8a1f8867-3780-43cc-8501-0d1c170e698f"
      },
      "execution_count": null,
      "outputs": [
        {
          "output_type": "execute_result",
          "data": {
            "text/plain": [
              "array([0, 0, 1, ..., 1, 0, 0])"
            ]
          },
          "metadata": {},
          "execution_count": 112
        }
      ]
    },
    {
      "cell_type": "code",
      "source": [
        "type(prediction)"
      ],
      "metadata": {
        "colab": {
          "base_uri": "https://localhost:8080/"
        },
        "id": "hcaYDdlDBiD3",
        "outputId": "7d528a65-c43c-4606-fc18-6122ae892f31"
      },
      "execution_count": null,
      "outputs": [
        {
          "output_type": "execute_result",
          "data": {
            "text/plain": [
              "numpy.ndarray"
            ]
          },
          "metadata": {},
          "execution_count": 113
        }
      ]
    },
    {
      "cell_type": "code",
      "source": [
        "df5 = pd.DataFrame(prediction)"
      ],
      "metadata": {
        "id": "Jz3HAY64DhhX"
      },
      "execution_count": null,
      "outputs": []
    },
    {
      "cell_type": "code",
      "source": [
        "df5.to_csv('file3.csv')"
      ],
      "metadata": {
        "id": "bdkS70cXDzqN"
      },
      "execution_count": null,
      "outputs": []
    }
  ]
}